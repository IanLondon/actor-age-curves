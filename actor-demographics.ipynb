{
 "cells": [
  {
   "cell_type": "code",
   "execution_count": 3,
   "metadata": {
    "collapsed": true
   },
   "outputs": [],
   "source": [
    "import tablescraper as scrape\n",
    "import requests\n",
    "import re\n",
    "import pandas as pd"
   ]
  },
  {
   "cell_type": "code",
   "execution_count": 4,
   "metadata": {
    "collapsed": false
   },
   "outputs": [],
   "source": [
    "# bdays = scrape.scrape_elems(\n",
    "#     ['https://en.wikipedia.org/wiki/Robert_Downey_Jr.', 'https://en.wikipedia.org/wiki/Paul_Bettany'],\n",
    "#     '//*[@class=\"bday\"]/text()')\n",
    "\n",
    "# bdays"
   ]
  },
  {
   "cell_type": "markdown",
   "metadata": {},
   "source": [
    "## Get wikipedia page by actor_name, then get birthday"
   ]
  },
  {
   "cell_type": "code",
   "execution_count": 5,
   "metadata": {
    "collapsed": false
   },
   "outputs": [
    {
     "data": {
      "text/html": [
       "<div>\n",
       "<table border=\"1\" class=\"dataframe\">\n",
       "  <thead>\n",
       "    <tr style=\"text-align: right;\">\n",
       "      <th></th>\n",
       "      <th>rank</th>\n",
       "      <th>title</th>\n",
       "      <th>studio</th>\n",
       "      <th>adjusted_gross</th>\n",
       "      <th>unadjusted_gross</th>\n",
       "      <th>release</th>\n",
       "      <th>actor_id</th>\n",
       "      <th>actor_name</th>\n",
       "    </tr>\n",
       "  </thead>\n",
       "  <tbody>\n",
       "    <tr>\n",
       "      <th>0</th>\n",
       "      <td>-</td>\n",
       "      <td>Marvel's The Avengers</td>\n",
       "      <td>BV</td>\n",
       "      <td>668866600</td>\n",
       "      <td>623357910</td>\n",
       "      <td>2012-05-04</td>\n",
       "      <td>paulbettany</td>\n",
       "      <td>Paul Bettany</td>\n",
       "    </tr>\n",
       "    <tr>\n",
       "      <th>1</th>\n",
       "      <td>1</td>\n",
       "      <td>Avengers: Age of Ultron</td>\n",
       "      <td>BV</td>\n",
       "      <td>465684200</td>\n",
       "      <td>459005868</td>\n",
       "      <td>2015-05-01</td>\n",
       "      <td>paulbettany</td>\n",
       "      <td>Paul Bettany</td>\n",
       "    </tr>\n",
       "    <tr>\n",
       "      <th>2</th>\n",
       "      <td>-</td>\n",
       "      <td>Iron Man 3</td>\n",
       "      <td>BV</td>\n",
       "      <td>424632700</td>\n",
       "      <td>409013994</td>\n",
       "      <td>2013-05-03</td>\n",
       "      <td>paulbettany</td>\n",
       "      <td>Paul Bettany</td>\n",
       "    </tr>\n",
       "    <tr>\n",
       "      <th>3</th>\n",
       "      <td>-</td>\n",
       "      <td>Iron Man</td>\n",
       "      <td>Par.</td>\n",
       "      <td>385808100</td>\n",
       "      <td>318412101</td>\n",
       "      <td>2008-05-02</td>\n",
       "      <td>paulbettany</td>\n",
       "      <td>Paul Bettany</td>\n",
       "    </tr>\n",
       "    <tr>\n",
       "      <th>4</th>\n",
       "      <td>-</td>\n",
       "      <td>Iron Man 2</td>\n",
       "      <td>Par.</td>\n",
       "      <td>341908200</td>\n",
       "      <td>312433331</td>\n",
       "      <td>2010-05-07</td>\n",
       "      <td>paulbettany</td>\n",
       "      <td>Paul Bettany</td>\n",
       "    </tr>\n",
       "  </tbody>\n",
       "</table>\n",
       "</div>"
      ],
      "text/plain": [
       "  rank                    title studio  adjusted_gross  unadjusted_gross  \\\n",
       "0    -    Marvel's The Avengers     BV       668866600         623357910   \n",
       "1    1  Avengers: Age of Ultron     BV       465684200         459005868   \n",
       "2    -               Iron Man 3     BV       424632700         409013994   \n",
       "3    -                 Iron Man   Par.       385808100         318412101   \n",
       "4    -               Iron Man 2   Par.       341908200         312433331   \n",
       "\n",
       "     release     actor_id    actor_name  \n",
       "0 2012-05-04  paulbettany  Paul Bettany  \n",
       "1 2015-05-01  paulbettany  Paul Bettany  \n",
       "2 2013-05-03  paulbettany  Paul Bettany  \n",
       "3 2008-05-02  paulbettany  Paul Bettany  \n",
       "4 2010-05-07  paulbettany  Paul Bettany  "
      ]
     },
     "execution_count": 5,
     "metadata": {},
     "output_type": "execute_result"
    }
   ],
   "source": [
    "def wikipedia_urls(actor_names):\n",
    "    \"\"\"\n",
    "    Returns wikipedia search urls, formatted as a dict like {actor_name:wiki_page_url, ...}\n",
    "    Warning: will return a 'disambiguation page' on some searches\n",
    "    \"\"\"\n",
    "\n",
    "    actor_names = scrape.to_sequence(actor_names)\n",
    "    final_urls = {}\n",
    "    \n",
    "    for actor_name in actor_names:\n",
    "\n",
    "        url = 'https://en.wikipedia.org/w/index.php?search={name}&title=Special%3ASearch&go=Go'.format(\n",
    "            name=re.sub(r\"[^A-Za-z+]+\", '', actor_name.lower().replace(' ','+')))\n",
    "\n",
    "        final_urls[actor_name] = url\n",
    "\n",
    "    return final_urls\n",
    "\n",
    "actor_revenue = pd.read_pickle('actor_revenue.pickle')\n",
    "actor_revenue.head()"
   ]
  },
  {
   "cell_type": "code",
   "execution_count": null,
   "metadata": {
    "collapsed": false,
    "scrolled": true
   },
   "outputs": [],
   "source": [
    "# actor_names = actor_revenue.actor_name.unique()\n",
    "\n",
    "# wiki_urls = wikipedia_urls(actor_names)\n",
    "# birthdays = scrape.scrape_elems(wiki_urls, '//*[@class=\"bday\"]/text()')\n",
    "\n",
    "# print len(birthdays)\n",
    "# print zip(birthdays, actor_names)[:5]"
   ]
  },
  {
   "cell_type": "code",
   "execution_count": null,
   "metadata": {
    "collapsed": false
   },
   "outputs": [],
   "source": [
    "actor_names = actor_revenue.actor_name.unique()\n",
    "\n",
    "print len(actor_names)\n",
    "\n",
    "wiki_urls = wikipedia_urls(actor_names)\n",
    "wiki_data = scrape.scrape_multi_elems(wiki_urls, \n",
    "    {\n",
    "        'bday':'//*[@class=\"bday\"]/text()',\n",
    "        'text':'normalize-space(string(//div[@id=\"mw-content-text\"]))',\n",
    "        'categories':'(//*[@id=\"catlinks\"]//a)[position()>1]/text()'\n",
    "    },\n",
    "    keep_trees=True)\n",
    "\n",
    "print len(wiki_data)"
   ]
  },
  {
   "cell_type": "code",
   "execution_count": 11,
   "metadata": {
    "collapsed": false
   },
   "outputs": [],
   "source": [
    "# pickle can't handle fancy dictionaries, dill to the rescue\n",
    "import dill\n",
    "\n",
    "# with open('wiki_data_dict.dill', 'wb') as f:\n",
    "#     dill.dump(wiki_data, f)\n",
    "    \n",
    "# !ls\n",
    "\n",
    "######################################\n",
    "\n",
    "# with open('wiki_data_dict.dill') as f:\n",
    "#     wiki_data = dill.load(f)\n"
   ]
  },
  {
   "cell_type": "code",
   "execution_count": 12,
   "metadata": {
    "collapsed": false
   },
   "outputs": [
    {
     "name": "stdout",
     "output_type": "stream",
     "text": [
      "Paul Bettany\n",
      "['1971-05-27']\n",
      "An automated process has detected links on this page on the local or global blacklist. If the links \n",
      "['1971 births', 'Male actors from London', 'Alumni of the Drama Centre London', 'British buskers', 'English male film actors', 'English male stage actors', 'British atheists', 'British expatriates in the United States', 'Living people', 'People from Harlesden', 'Royal Shakespeare Company members', '20th-century British male actors', '21st-century British male actors', \"People from Shepherd's Bush\", 'Tagged pages containing blacklisted links', 'Articles with hCards', 'All articles with unsourced statements', 'Articles with unsourced statements from March 2014', 'Commons category with page title same as on Wikidata', 'Use British English from August 2010', 'Use dmy dates from June 2011', 'Wikipedia articles with VIAF identifiers', 'Wikipedia articles with LCCN identifiers', 'Wikipedia articles with ISNI identifiers', 'Wikipedia articles with GND identifiers', 'Wikipedia articles with BNF identifiers']\n"
     ]
    },
    {
     "ename": "AssertionError",
     "evalue": "invalid Element proxy at 140286489569776",
     "output_type": "error",
     "traceback": [
      "\u001b[1;31m---------------------------------------------------------------------------\u001b[0m",
      "\u001b[1;31mAssertionError\u001b[0m                            Traceback (most recent call last)",
      "\u001b[1;32m<ipython-input-12-f6559fe0ff34>\u001b[0m in \u001b[0;36m<module>\u001b[1;34m()\u001b[0m\n\u001b[0;32m      6\u001b[0m \u001b[1;32mprint\u001b[0m \u001b[0mwiki_data\u001b[0m\u001b[1;33m[\u001b[0m\u001b[0mtest_name\u001b[0m\u001b[1;33m]\u001b[0m\u001b[1;33m[\u001b[0m\u001b[1;34m'text'\u001b[0m\u001b[1;33m]\u001b[0m\u001b[1;33m[\u001b[0m\u001b[1;33m:\u001b[0m\u001b[1;36m100\u001b[0m\u001b[1;33m]\u001b[0m\u001b[1;33m\u001b[0m\u001b[0m\n\u001b[0;32m      7\u001b[0m \u001b[1;32mprint\u001b[0m \u001b[0mwiki_data\u001b[0m\u001b[1;33m[\u001b[0m\u001b[0mtest_name\u001b[0m\u001b[1;33m]\u001b[0m\u001b[1;33m[\u001b[0m\u001b[1;34m'categories'\u001b[0m\u001b[1;33m]\u001b[0m\u001b[1;33m\u001b[0m\u001b[0m\n\u001b[1;32m----> 8\u001b[1;33m \u001b[1;32mprint\u001b[0m \u001b[0mwiki_data\u001b[0m\u001b[1;33m[\u001b[0m\u001b[0mtest_name\u001b[0m\u001b[1;33m]\u001b[0m\u001b[1;33m[\u001b[0m\u001b[1;34m'tree'\u001b[0m\u001b[1;33m]\u001b[0m\u001b[1;33m\u001b[0m\u001b[0m\n\u001b[0m\u001b[0;32m      9\u001b[0m \u001b[1;33m\u001b[0m\u001b[0m\n\u001b[0;32m     10\u001b[0m \u001b[1;32mprint\u001b[0m \u001b[0mtype\u001b[0m\u001b[1;33m(\u001b[0m\u001b[0mwiki_data\u001b[0m\u001b[1;33m[\u001b[0m\u001b[0mtest_name\u001b[0m\u001b[1;33m]\u001b[0m\u001b[1;33m[\u001b[0m\u001b[1;34m'tree'\u001b[0m\u001b[1;33m]\u001b[0m\u001b[1;33m)\u001b[0m\u001b[1;33m\u001b[0m\u001b[0m\n",
      "\u001b[1;32msrc/lxml/lxml.etree.pyx\u001b[0m in \u001b[0;36mlxml.etree._Element.__repr__ (src/lxml/lxml.etree.c:56498)\u001b[1;34m()\u001b[0m\n",
      "\u001b[1;32msrc/lxml/lxml.etree.pyx\u001b[0m in \u001b[0;36mlxml.etree._Element.tag.__get__ (src/lxml/lxml.etree.c:54793)\u001b[1;34m()\u001b[0m\n",
      "\u001b[1;32msrc/lxml/apihelpers.pxi\u001b[0m in \u001b[0;36mlxml.etree._assertValidNode (src/lxml/lxml.etree.c:16214)\u001b[1;34m()\u001b[0m\n",
      "\u001b[1;31mAssertionError\u001b[0m: invalid Element proxy at 140286489569776"
     ]
    }
   ],
   "source": [
    "test_name = actor_names[0]\n",
    "\n",
    "print test_name\n",
    "\n",
    "print wiki_data[test_name]['bday']\n",
    "print wiki_data[test_name]['text'][:100]\n",
    "print wiki_data[test_name]['categories']\n",
    "print wiki_data[test_name]['tree']\n",
    "\n",
    "print type(wiki_data[test_name]['tree'])"
   ]
  },
  {
   "cell_type": "markdown",
   "metadata": {},
   "source": [
    "I want to use the Wikipedia categories as features -- they'll be one-hot columns aka dummy variables. \n",
    "\n",
    "So first I need to figure out all the unique categories, then for each actor change `categories` to a pandas Series indexed by the category name, with True for 'has category' and False for 'does not have category'."
   ]
  },
  {
   "cell_type": "code",
   "execution_count": 13,
   "metadata": {
    "collapsed": false
   },
   "outputs": [
    {
     "name": "stdout",
     "output_type": "stream",
     "text": [
      "got 4826 unique categories\n",
      "\n",
      "Deaths from fire in the United States\n",
      "Detroit Country Day School alumni\n",
      "21st-century Australian actresses\n",
      "People from Pound Ridge, New York\n",
      "Female comics writers\n",
      "Articles containing potentially dated statements from March 2014\n",
      "Articles containing potentially dated statements from March 2016\n",
      "Use Australian English from February 2014\n",
      "O. Henry Award winners\n",
      "Scottish nationalists\n"
     ]
    }
   ],
   "source": [
    "all_categories = set()\n",
    "\n",
    "for actor_name, actor_data in wiki_data.iteritems():\n",
    "    all_categories.update(actor_data['categories'])\n",
    "\n",
    "all_categories = list(all_categories)\n",
    "print 'got %i unique categories\\n' % len(all_categories)\n",
    "print '\\n'.join(all_categories[:10])"
   ]
  },
  {
   "cell_type": "code",
   "execution_count": 14,
   "metadata": {
    "collapsed": true
   },
   "outputs": [],
   "source": [
    "for actor_name, actor_data in wiki_data.iteritems():\n",
    "    for category in all_categories:\n",
    "        wiki_data[actor_name][category] = category in actor_data['categories']"
   ]
  },
  {
   "cell_type": "code",
   "execution_count": 20,
   "metadata": {
    "collapsed": true
   },
   "outputs": [],
   "source": [
    "def percent_male_from_text(text):\n",
    "    male_pronoun_count = 0\n",
    "    female_pronoun_count = 0\n",
    "    \n",
    "    male_pronouns = ['him','his']\n",
    "    female_pronouns = ['she','her']\n",
    "    \n",
    "    text = text.lower()\n",
    "    \n",
    "    # search for space-buffered gendered pronouns\n",
    "    for pron in male_pronouns:\n",
    "        male_pronoun_count += text.count(' %s ' % pron)\n",
    "\n",
    "    for pron in female_pronouns:\n",
    "        female_pronoun_count += text.count(' %s ' % pron)\n",
    "        \n",
    "    if male_pronoun_count + female_pronoun_count == 0:\n",
    "        # return NaN if there are no pronouns found\n",
    "        return pd.np.nan    \n",
    "    \n",
    "    return (1.0*male_pronoun_count)/(male_pronoun_count + female_pronoun_count)"
   ]
  },
  {
   "cell_type": "code",
   "execution_count": 26,
   "metadata": {
    "collapsed": false
   },
   "outputs": [
    {
     "data": {
      "text/plain": [
       "50 Cent                 NaN\n",
       "Aaron Eckhart      0.937500\n",
       "Aaron Johnson      0.928571\n",
       "Abbie Cornish      0.038462\n",
       "Abigail Breslin    0.052632\n",
       "Name: male_txt, dtype: float64"
      ]
     },
     "execution_count": 26,
     "metadata": {},
     "output_type": "execute_result"
    }
   ],
   "source": [
    "wiki_df = pd.DataFrame.from_dict(wiki_data, orient='index').drop(['tree','categories'], axis=1)\n",
    "\n",
    "wiki_df['male_txt'] = wiki_df.text.apply(percent_male_from_text)\n",
    "\n",
    "wiki_df.drop('text', axis=1, inplace=True)\n",
    "\n",
    "wiki_df.male_txt.head()"
   ]
  },
  {
   "cell_type": "code",
   "execution_count": 48,
   "metadata": {
    "collapsed": false
   },
   "outputs": [
    {
     "data": {
      "text/plain": [
       "50 Cent           NaN\n",
       "Aaron Eckhart       1\n",
       "Aaron Johnson       1\n",
       "Abbie Cornish       0\n",
       "Abigail Breslin     0\n",
       "Name: male_txt, dtype: float64"
      ]
     },
     "execution_count": 48,
     "metadata": {},
     "output_type": "execute_result"
    }
   ],
   "source": [
    "# if they're \"most likely\" male, male==True\n",
    "# allow NaN's to propagate\n",
    "wiki_df.male_txt = wiki_df.male_txt.round()\n",
    "wiki_df.male_txt.head()"
   ]
  },
  {
   "cell_type": "markdown",
   "metadata": {},
   "source": [
    "I don't necessarily have to do this, but I'll remove the features that are too sparse by setting a threshold. If less than `category_cutoff` people have feature X, that feature will be removed."
   ]
  },
  {
   "cell_type": "code",
   "execution_count": 49,
   "metadata": {
    "collapsed": false
   },
   "outputs": [
    {
     "name": "stdout",
     "output_type": "stream",
     "text": [
      "4487 unimportant categories to drop (less than than 10 members)\n"
     ]
    },
    {
     "data": {
      "text/plain": [
       "Detroit Country Day School alumni                                   True\n",
       "American punk rock musicians                                        True\n",
       "People from Pound Ridge, New York                                      2\n",
       "Female comics writers                                                  2\n",
       "Articles containing potentially dated statements from March 2014    True\n",
       "dtype: object"
      ]
     },
     "execution_count": 49,
     "metadata": {},
     "output_type": "execute_result"
    }
   ],
   "source": [
    "category_cutoff = 10\n",
    "\n",
    "summed_categories = wiki_df.sum()\n",
    "unimportant_categories = summed_categories[summed_categories < category_cutoff]\n",
    "\n",
    "print '%i unimportant categories to drop (less than than %i members)' % (len(unimportant_categories), category_cutoff)\n",
    "unimportant_categories.head()"
   ]
  },
  {
   "cell_type": "code",
   "execution_count": 50,
   "metadata": {
    "collapsed": false
   },
   "outputs": [
    {
     "data": {
      "text/html": [
       "<div>\n",
       "<table border=\"1\" class=\"dataframe\">\n",
       "  <thead>\n",
       "    <tr style=\"text-align: right;\">\n",
       "      <th></th>\n",
       "      <th>Canadian male voice actors</th>\n",
       "      <th>21st-century Australian actresses</th>\n",
       "      <th>Canadian male television actors</th>\n",
       "      <th>English people of Irish descent</th>\n",
       "      <th>Commanders of the Order of the British Empire</th>\n",
       "      <th>Wikipedia protected pages without expiry</th>\n",
       "      <th>American atheists</th>\n",
       "      <th>1992 births</th>\n",
       "      <th>English male television actors</th>\n",
       "      <th>Best Supporting Actress Academy Award winners</th>\n",
       "      <th>...</th>\n",
       "      <th>Australian television actresses</th>\n",
       "      <th>Articles with dead external links from October 2010</th>\n",
       "      <th>Best Miniseries or Television Movie Actor Golden Globe winners</th>\n",
       "      <th>British Shakespearean actresses</th>\n",
       "      <th>American television directors</th>\n",
       "      <th>American male child actors</th>\n",
       "      <th>Outstanding Performance by a Female Actor in a Miniseries or Television Movie Screen Actors Guild Award winners</th>\n",
       "      <th>Articles with unsourced statements from February 2016</th>\n",
       "      <th>Articles with unsourced statements from April 2016</th>\n",
       "      <th>male_txt</th>\n",
       "    </tr>\n",
       "  </thead>\n",
       "  <tbody>\n",
       "    <tr>\n",
       "      <th>50 Cent</th>\n",
       "      <td>False</td>\n",
       "      <td>False</td>\n",
       "      <td>False</td>\n",
       "      <td>False</td>\n",
       "      <td>False</td>\n",
       "      <td>False</td>\n",
       "      <td>False</td>\n",
       "      <td>False</td>\n",
       "      <td>False</td>\n",
       "      <td>False</td>\n",
       "      <td>...</td>\n",
       "      <td>False</td>\n",
       "      <td>False</td>\n",
       "      <td>False</td>\n",
       "      <td>False</td>\n",
       "      <td>False</td>\n",
       "      <td>False</td>\n",
       "      <td>False</td>\n",
       "      <td>False</td>\n",
       "      <td>False</td>\n",
       "      <td>NaN</td>\n",
       "    </tr>\n",
       "    <tr>\n",
       "      <th>Aaron Eckhart</th>\n",
       "      <td>False</td>\n",
       "      <td>False</td>\n",
       "      <td>False</td>\n",
       "      <td>False</td>\n",
       "      <td>False</td>\n",
       "      <td>False</td>\n",
       "      <td>False</td>\n",
       "      <td>False</td>\n",
       "      <td>False</td>\n",
       "      <td>False</td>\n",
       "      <td>...</td>\n",
       "      <td>False</td>\n",
       "      <td>False</td>\n",
       "      <td>False</td>\n",
       "      <td>False</td>\n",
       "      <td>False</td>\n",
       "      <td>False</td>\n",
       "      <td>False</td>\n",
       "      <td>False</td>\n",
       "      <td>False</td>\n",
       "      <td>1</td>\n",
       "    </tr>\n",
       "    <tr>\n",
       "      <th>Aaron Johnson</th>\n",
       "      <td>False</td>\n",
       "      <td>False</td>\n",
       "      <td>False</td>\n",
       "      <td>False</td>\n",
       "      <td>False</td>\n",
       "      <td>False</td>\n",
       "      <td>False</td>\n",
       "      <td>False</td>\n",
       "      <td>True</td>\n",
       "      <td>False</td>\n",
       "      <td>...</td>\n",
       "      <td>False</td>\n",
       "      <td>False</td>\n",
       "      <td>False</td>\n",
       "      <td>False</td>\n",
       "      <td>False</td>\n",
       "      <td>False</td>\n",
       "      <td>False</td>\n",
       "      <td>False</td>\n",
       "      <td>False</td>\n",
       "      <td>1</td>\n",
       "    </tr>\n",
       "    <tr>\n",
       "      <th>Abbie Cornish</th>\n",
       "      <td>False</td>\n",
       "      <td>True</td>\n",
       "      <td>False</td>\n",
       "      <td>False</td>\n",
       "      <td>False</td>\n",
       "      <td>False</td>\n",
       "      <td>False</td>\n",
       "      <td>False</td>\n",
       "      <td>False</td>\n",
       "      <td>False</td>\n",
       "      <td>...</td>\n",
       "      <td>True</td>\n",
       "      <td>False</td>\n",
       "      <td>False</td>\n",
       "      <td>False</td>\n",
       "      <td>False</td>\n",
       "      <td>False</td>\n",
       "      <td>False</td>\n",
       "      <td>False</td>\n",
       "      <td>False</td>\n",
       "      <td>0</td>\n",
       "    </tr>\n",
       "    <tr>\n",
       "      <th>Abigail Breslin</th>\n",
       "      <td>False</td>\n",
       "      <td>False</td>\n",
       "      <td>False</td>\n",
       "      <td>False</td>\n",
       "      <td>False</td>\n",
       "      <td>False</td>\n",
       "      <td>False</td>\n",
       "      <td>False</td>\n",
       "      <td>False</td>\n",
       "      <td>False</td>\n",
       "      <td>...</td>\n",
       "      <td>False</td>\n",
       "      <td>False</td>\n",
       "      <td>False</td>\n",
       "      <td>False</td>\n",
       "      <td>False</td>\n",
       "      <td>False</td>\n",
       "      <td>False</td>\n",
       "      <td>False</td>\n",
       "      <td>False</td>\n",
       "      <td>0</td>\n",
       "    </tr>\n",
       "  </tbody>\n",
       "</table>\n",
       "<p>5 rows × 341 columns</p>\n",
       "</div>"
      ],
      "text/plain": [
       "                Canadian male voice actors 21st-century Australian actresses  \\\n",
       "50 Cent                              False                             False   \n",
       "Aaron Eckhart                        False                             False   \n",
       "Aaron Johnson                        False                             False   \n",
       "Abbie Cornish                        False                              True   \n",
       "Abigail Breslin                      False                             False   \n",
       "\n",
       "                Canadian male television actors  \\\n",
       "50 Cent                                   False   \n",
       "Aaron Eckhart                             False   \n",
       "Aaron Johnson                             False   \n",
       "Abbie Cornish                             False   \n",
       "Abigail Breslin                           False   \n",
       "\n",
       "                English people of Irish descent  \\\n",
       "50 Cent                                   False   \n",
       "Aaron Eckhart                             False   \n",
       "Aaron Johnson                             False   \n",
       "Abbie Cornish                             False   \n",
       "Abigail Breslin                           False   \n",
       "\n",
       "                Commanders of the Order of the British Empire  \\\n",
       "50 Cent                                                 False   \n",
       "Aaron Eckhart                                           False   \n",
       "Aaron Johnson                                           False   \n",
       "Abbie Cornish                                           False   \n",
       "Abigail Breslin                                         False   \n",
       "\n",
       "                Wikipedia protected pages without expiry American atheists  \\\n",
       "50 Cent                                            False             False   \n",
       "Aaron Eckhart                                      False             False   \n",
       "Aaron Johnson                                      False             False   \n",
       "Abbie Cornish                                      False             False   \n",
       "Abigail Breslin                                    False             False   \n",
       "\n",
       "                1992 births English male television actors  \\\n",
       "50 Cent               False                          False   \n",
       "Aaron Eckhart         False                          False   \n",
       "Aaron Johnson         False                           True   \n",
       "Abbie Cornish         False                          False   \n",
       "Abigail Breslin       False                          False   \n",
       "\n",
       "                Best Supporting Actress Academy Award winners   ...     \\\n",
       "50 Cent                                                 False   ...      \n",
       "Aaron Eckhart                                           False   ...      \n",
       "Aaron Johnson                                           False   ...      \n",
       "Abbie Cornish                                           False   ...      \n",
       "Abigail Breslin                                         False   ...      \n",
       "\n",
       "                Australian television actresses  \\\n",
       "50 Cent                                   False   \n",
       "Aaron Eckhart                             False   \n",
       "Aaron Johnson                             False   \n",
       "Abbie Cornish                              True   \n",
       "Abigail Breslin                           False   \n",
       "\n",
       "                Articles with dead external links from October 2010  \\\n",
       "50 Cent                                                      False    \n",
       "Aaron Eckhart                                                False    \n",
       "Aaron Johnson                                                False    \n",
       "Abbie Cornish                                                False    \n",
       "Abigail Breslin                                              False    \n",
       "\n",
       "                Best Miniseries or Television Movie Actor Golden Globe winners  \\\n",
       "50 Cent                                                      False               \n",
       "Aaron Eckhart                                                False               \n",
       "Aaron Johnson                                                False               \n",
       "Abbie Cornish                                                False               \n",
       "Abigail Breslin                                              False               \n",
       "\n",
       "                British Shakespearean actresses American television directors  \\\n",
       "50 Cent                                   False                         False   \n",
       "Aaron Eckhart                             False                         False   \n",
       "Aaron Johnson                             False                         False   \n",
       "Abbie Cornish                             False                         False   \n",
       "Abigail Breslin                           False                         False   \n",
       "\n",
       "                American male child actors  \\\n",
       "50 Cent                              False   \n",
       "Aaron Eckhart                        False   \n",
       "Aaron Johnson                        False   \n",
       "Abbie Cornish                        False   \n",
       "Abigail Breslin                      False   \n",
       "\n",
       "                Outstanding Performance by a Female Actor in a Miniseries or Television Movie Screen Actors Guild Award winners  \\\n",
       "50 Cent                                                      False                                                                \n",
       "Aaron Eckhart                                                False                                                                \n",
       "Aaron Johnson                                                False                                                                \n",
       "Abbie Cornish                                                False                                                                \n",
       "Abigail Breslin                                              False                                                                \n",
       "\n",
       "                Articles with unsourced statements from February 2016  \\\n",
       "50 Cent                                                      False      \n",
       "Aaron Eckhart                                                False      \n",
       "Aaron Johnson                                                False      \n",
       "Abbie Cornish                                                False      \n",
       "Abigail Breslin                                              False      \n",
       "\n",
       "                Articles with unsourced statements from April 2016 male_txt  \n",
       "50 Cent                                                      False      NaN  \n",
       "Aaron Eckhart                                                False        1  \n",
       "Aaron Johnson                                                False        1  \n",
       "Abbie Cornish                                                False        0  \n",
       "Abigail Breslin                                              False        0  \n",
       "\n",
       "[5 rows x 341 columns]"
      ]
     },
     "execution_count": 50,
     "metadata": {},
     "output_type": "execute_result"
    }
   ],
   "source": [
    "# filter out the unimportand categories\n",
    "\n",
    "filtered_wiki_df = wiki_df.drop(unimportant_categories.index, axis=1)\n",
    "filtered_wiki_df.head()"
   ]
  },
  {
   "cell_type": "code",
   "execution_count": 66,
   "metadata": {
    "collapsed": false
   },
   "outputs": [
    {
     "data": {
      "text/plain": [
       "50 Cent                  NaT\n",
       "Aaron Eckhart     1968-03-12\n",
       "Aaron Johnson     1990-06-13\n",
       "Abbie Cornish     1982-08-07\n",
       "Abigail Breslin   1996-04-14\n",
       "Name: bday, dtype: datetime64[ns]"
      ]
     },
     "execution_count": 66,
     "metadata": {},
     "output_type": "execute_result"
    }
   ],
   "source": [
    "# take bday out of lists and convert to datetime\n",
    "def first_el_in_list(l):\n",
    "    if len(l) > 0:\n",
    "        return l[0]\n",
    "    else:\n",
    "        return pd.np.nan\n",
    "\n",
    "filtered_wiki_df.bday = pd.to_datetime(filtered_wiki_df.bday.apply(first_el_in_list))\n",
    "filtered_wiki_df.bday.head()"
   ]
  },
  {
   "cell_type": "markdown",
   "metadata": {},
   "source": [
    "Now I want to **join** actor biographic info from `filtered_wiki_df` to actor movie info from `actor_revenue`"
   ]
  },
  {
   "cell_type": "code",
   "execution_count": 67,
   "metadata": {
    "collapsed": false
   },
   "outputs": [
    {
     "data": {
      "text/html": [
       "<div>\n",
       "<table border=\"1\" class=\"dataframe\">\n",
       "  <thead>\n",
       "    <tr style=\"text-align: right;\">\n",
       "      <th></th>\n",
       "      <th>rank</th>\n",
       "      <th>title</th>\n",
       "      <th>studio</th>\n",
       "      <th>adjusted_gross</th>\n",
       "      <th>unadjusted_gross</th>\n",
       "      <th>release</th>\n",
       "      <th>actor_id</th>\n",
       "      <th>Canadian male voice actors</th>\n",
       "      <th>21st-century Australian actresses</th>\n",
       "      <th>Canadian male television actors</th>\n",
       "      <th>...</th>\n",
       "      <th>Australian television actresses</th>\n",
       "      <th>Articles with dead external links from October 2010</th>\n",
       "      <th>Best Miniseries or Television Movie Actor Golden Globe winners</th>\n",
       "      <th>British Shakespearean actresses</th>\n",
       "      <th>American television directors</th>\n",
       "      <th>American male child actors</th>\n",
       "      <th>Outstanding Performance by a Female Actor in a Miniseries or Television Movie Screen Actors Guild Award winners</th>\n",
       "      <th>Articles with unsourced statements from February 2016</th>\n",
       "      <th>Articles with unsourced statements from April 2016</th>\n",
       "      <th>male_txt</th>\n",
       "    </tr>\n",
       "  </thead>\n",
       "  <tbody>\n",
       "    <tr>\n",
       "      <th>50 Cent</th>\n",
       "      <td>1</td>\n",
       "      <td>Spy</td>\n",
       "      <td>Fox</td>\n",
       "      <td>116867700</td>\n",
       "      <td>110825712</td>\n",
       "      <td>2015-06-05</td>\n",
       "      <td>50cent</td>\n",
       "      <td>False</td>\n",
       "      <td>False</td>\n",
       "      <td>False</td>\n",
       "      <td>...</td>\n",
       "      <td>False</td>\n",
       "      <td>False</td>\n",
       "      <td>False</td>\n",
       "      <td>False</td>\n",
       "      <td>False</td>\n",
       "      <td>False</td>\n",
       "      <td>False</td>\n",
       "      <td>False</td>\n",
       "      <td>False</td>\n",
       "      <td>NaN</td>\n",
       "    </tr>\n",
       "    <tr>\n",
       "      <th>50 Cent</th>\n",
       "      <td>2</td>\n",
       "      <td>Southpaw</td>\n",
       "      <td>Wein.</td>\n",
       "      <td>55265500</td>\n",
       "      <td>52421953</td>\n",
       "      <td>2015-07-24</td>\n",
       "      <td>50cent</td>\n",
       "      <td>False</td>\n",
       "      <td>False</td>\n",
       "      <td>False</td>\n",
       "      <td>...</td>\n",
       "      <td>False</td>\n",
       "      <td>False</td>\n",
       "      <td>False</td>\n",
       "      <td>False</td>\n",
       "      <td>False</td>\n",
       "      <td>False</td>\n",
       "      <td>False</td>\n",
       "      <td>False</td>\n",
       "      <td>False</td>\n",
       "      <td>NaN</td>\n",
       "    </tr>\n",
       "    <tr>\n",
       "      <th>50 Cent</th>\n",
       "      <td>3</td>\n",
       "      <td>Righteous Kill</td>\n",
       "      <td>Over.</td>\n",
       "      <td>48566600</td>\n",
       "      <td>40081410</td>\n",
       "      <td>2008-09-12</td>\n",
       "      <td>50cent</td>\n",
       "      <td>False</td>\n",
       "      <td>False</td>\n",
       "      <td>False</td>\n",
       "      <td>...</td>\n",
       "      <td>False</td>\n",
       "      <td>False</td>\n",
       "      <td>False</td>\n",
       "      <td>False</td>\n",
       "      <td>False</td>\n",
       "      <td>False</td>\n",
       "      <td>False</td>\n",
       "      <td>False</td>\n",
       "      <td>False</td>\n",
       "      <td>NaN</td>\n",
       "    </tr>\n",
       "    <tr>\n",
       "      <th>50 Cent</th>\n",
       "      <td>4</td>\n",
       "      <td>Get Rich or Die Tryin'</td>\n",
       "      <td>Par.</td>\n",
       "      <td>42048300</td>\n",
       "      <td>30985352</td>\n",
       "      <td>2005-11-09</td>\n",
       "      <td>50cent</td>\n",
       "      <td>False</td>\n",
       "      <td>False</td>\n",
       "      <td>False</td>\n",
       "      <td>...</td>\n",
       "      <td>False</td>\n",
       "      <td>False</td>\n",
       "      <td>False</td>\n",
       "      <td>False</td>\n",
       "      <td>False</td>\n",
       "      <td>False</td>\n",
       "      <td>False</td>\n",
       "      <td>False</td>\n",
       "      <td>False</td>\n",
       "      <td>NaN</td>\n",
       "    </tr>\n",
       "    <tr>\n",
       "      <th>50 Cent</th>\n",
       "      <td>5</td>\n",
       "      <td>Escape Plan</td>\n",
       "      <td>LG/S</td>\n",
       "      <td>26202200</td>\n",
       "      <td>25135965</td>\n",
       "      <td>2013-10-18</td>\n",
       "      <td>50cent</td>\n",
       "      <td>False</td>\n",
       "      <td>False</td>\n",
       "      <td>False</td>\n",
       "      <td>...</td>\n",
       "      <td>False</td>\n",
       "      <td>False</td>\n",
       "      <td>False</td>\n",
       "      <td>False</td>\n",
       "      <td>False</td>\n",
       "      <td>False</td>\n",
       "      <td>False</td>\n",
       "      <td>False</td>\n",
       "      <td>False</td>\n",
       "      <td>NaN</td>\n",
       "    </tr>\n",
       "  </tbody>\n",
       "</table>\n",
       "<p>5 rows × 348 columns</p>\n",
       "</div>"
      ],
      "text/plain": [
       "        rank                   title studio  adjusted_gross  unadjusted_gross  \\\n",
       "50 Cent    1                     Spy    Fox       116867700         110825712   \n",
       "50 Cent    2                Southpaw  Wein.        55265500          52421953   \n",
       "50 Cent    3          Righteous Kill  Over.        48566600          40081410   \n",
       "50 Cent    4  Get Rich or Die Tryin'   Par.        42048300          30985352   \n",
       "50 Cent    5             Escape Plan   LG/S        26202200          25135965   \n",
       "\n",
       "           release actor_id Canadian male voice actors  \\\n",
       "50 Cent 2015-06-05   50cent                      False   \n",
       "50 Cent 2015-07-24   50cent                      False   \n",
       "50 Cent 2008-09-12   50cent                      False   \n",
       "50 Cent 2005-11-09   50cent                      False   \n",
       "50 Cent 2013-10-18   50cent                      False   \n",
       "\n",
       "        21st-century Australian actresses Canadian male television actors  \\\n",
       "50 Cent                             False                           False   \n",
       "50 Cent                             False                           False   \n",
       "50 Cent                             False                           False   \n",
       "50 Cent                             False                           False   \n",
       "50 Cent                             False                           False   \n",
       "\n",
       "          ...    Australian television actresses  \\\n",
       "50 Cent   ...                              False   \n",
       "50 Cent   ...                              False   \n",
       "50 Cent   ...                              False   \n",
       "50 Cent   ...                              False   \n",
       "50 Cent   ...                              False   \n",
       "\n",
       "        Articles with dead external links from October 2010  \\\n",
       "50 Cent                                              False    \n",
       "50 Cent                                              False    \n",
       "50 Cent                                              False    \n",
       "50 Cent                                              False    \n",
       "50 Cent                                              False    \n",
       "\n",
       "        Best Miniseries or Television Movie Actor Golden Globe winners  \\\n",
       "50 Cent                                              False               \n",
       "50 Cent                                              False               \n",
       "50 Cent                                              False               \n",
       "50 Cent                                              False               \n",
       "50 Cent                                              False               \n",
       "\n",
       "        British Shakespearean actresses American television directors  \\\n",
       "50 Cent                           False                         False   \n",
       "50 Cent                           False                         False   \n",
       "50 Cent                           False                         False   \n",
       "50 Cent                           False                         False   \n",
       "50 Cent                           False                         False   \n",
       "\n",
       "        American male child actors  \\\n",
       "50 Cent                      False   \n",
       "50 Cent                      False   \n",
       "50 Cent                      False   \n",
       "50 Cent                      False   \n",
       "50 Cent                      False   \n",
       "\n",
       "        Outstanding Performance by a Female Actor in a Miniseries or Television Movie Screen Actors Guild Award winners  \\\n",
       "50 Cent                                              False                                                                \n",
       "50 Cent                                              False                                                                \n",
       "50 Cent                                              False                                                                \n",
       "50 Cent                                              False                                                                \n",
       "50 Cent                                              False                                                                \n",
       "\n",
       "        Articles with unsourced statements from February 2016  \\\n",
       "50 Cent                                              False      \n",
       "50 Cent                                              False      \n",
       "50 Cent                                              False      \n",
       "50 Cent                                              False      \n",
       "50 Cent                                              False      \n",
       "\n",
       "        Articles with unsourced statements from April 2016 male_txt  \n",
       "50 Cent                                              False      NaN  \n",
       "50 Cent                                              False      NaN  \n",
       "50 Cent                                              False      NaN  \n",
       "50 Cent                                              False      NaN  \n",
       "50 Cent                                              False      NaN  \n",
       "\n",
       "[5 rows x 348 columns]"
      ]
     },
     "execution_count": 67,
     "metadata": {},
     "output_type": "execute_result"
    }
   ],
   "source": [
    "actor_full = actor_revenue.set_index('actor_name').join(filtered_wiki_df)\n",
    "actor_full.head()"
   ]
  },
  {
   "cell_type": "code",
   "execution_count": 71,
   "metadata": {
    "collapsed": false
   },
   "outputs": [
    {
     "data": {
      "text/html": [
       "<div>\n",
       "<table border=\"1\" class=\"dataframe\">\n",
       "  <thead>\n",
       "    <tr style=\"text-align: right;\">\n",
       "      <th></th>\n",
       "      <th>age_on_release</th>\n",
       "      <th>bday</th>\n",
       "      <th>release</th>\n",
       "      <th>title</th>\n",
       "      <th>adjusted_gross</th>\n",
       "      <th>male_txt</th>\n",
       "    </tr>\n",
       "  </thead>\n",
       "  <tbody>\n",
       "    <tr>\n",
       "      <th>Zooey Deschanel</th>\n",
       "      <td>9038 days</td>\n",
       "      <td>1980-01-17</td>\n",
       "      <td>2004-10-15</td>\n",
       "      <td>Eulogy</td>\n",
       "      <td>105200</td>\n",
       "      <td>0</td>\n",
       "    </tr>\n",
       "    <tr>\n",
       "      <th>Zooey Deschanel</th>\n",
       "      <td>8499 days</td>\n",
       "      <td>1980-01-17</td>\n",
       "      <td>2003-04-25</td>\n",
       "      <td>Manic</td>\n",
       "      <td>100900</td>\n",
       "      <td>0</td>\n",
       "    </tr>\n",
       "    <tr>\n",
       "      <th>Zooey Deschanel</th>\n",
       "      <td>9934 days</td>\n",
       "      <td>1980-01-17</td>\n",
       "      <td>2007-03-30</td>\n",
       "      <td>Live Free or Die</td>\n",
       "      <td>17500</td>\n",
       "      <td>0</td>\n",
       "    </tr>\n",
       "    <tr>\n",
       "      <th>Zooey Deschanel</th>\n",
       "      <td>10368 days</td>\n",
       "      <td>1980-01-17</td>\n",
       "      <td>2008-06-06</td>\n",
       "      <td>The Go-Getter</td>\n",
       "      <td>14500</td>\n",
       "      <td>0</td>\n",
       "    </tr>\n",
       "    <tr>\n",
       "      <th>Zooey Deschanel</th>\n",
       "      <td>10198 days</td>\n",
       "      <td>1980-01-17</td>\n",
       "      <td>2007-12-19</td>\n",
       "      <td>Flakes</td>\n",
       "      <td>1000</td>\n",
       "      <td>0</td>\n",
       "    </tr>\n",
       "  </tbody>\n",
       "</table>\n",
       "</div>"
      ],
      "text/plain": [
       "                 age_on_release       bday    release             title  \\\n",
       "Zooey Deschanel       9038 days 1980-01-17 2004-10-15            Eulogy   \n",
       "Zooey Deschanel       8499 days 1980-01-17 2003-04-25             Manic   \n",
       "Zooey Deschanel       9934 days 1980-01-17 2007-03-30  Live Free or Die   \n",
       "Zooey Deschanel      10368 days 1980-01-17 2008-06-06     The Go-Getter   \n",
       "Zooey Deschanel      10198 days 1980-01-17 2007-12-19            Flakes   \n",
       "\n",
       "                 adjusted_gross  male_txt  \n",
       "Zooey Deschanel          105200         0  \n",
       "Zooey Deschanel          100900         0  \n",
       "Zooey Deschanel           17500         0  \n",
       "Zooey Deschanel           14500         0  \n",
       "Zooey Deschanel            1000         0  "
      ]
     },
     "execution_count": 71,
     "metadata": {},
     "output_type": "execute_result"
    }
   ],
   "source": [
    "# finally add a column for actor age on release date\n",
    "actor_full['age_on_release'] = actor_full.release - actor_full.bday\n",
    "\n",
    "actor_full[['age_on_release','bday','release','title','adjusted_gross','male_txt']].tail()"
   ]
  },
  {
   "cell_type": "code",
   "execution_count": 72,
   "metadata": {
    "collapsed": false
   },
   "outputs": [
    {
     "name": "stdout",
     "output_type": "stream",
     "text": [
      "16416 rows, 349 columns\n"
     ]
    }
   ],
   "source": [
    "print '%i rows, %i columns' % actor_full.shape"
   ]
  },
  {
   "cell_type": "markdown",
   "metadata": {},
   "source": [
    "Enable to pickle:"
   ]
  },
  {
   "cell_type": "code",
   "execution_count": 73,
   "metadata": {
    "collapsed": true
   },
   "outputs": [],
   "source": [
    "# actor_full.to_pickle('actor_full.pickle')"
   ]
  },
  {
   "cell_type": "markdown",
   "metadata": {},
   "source": [
    "# The stuff under this uses old vars..."
   ]
  },
  {
   "cell_type": "code",
   "execution_count": null,
   "metadata": {
    "collapsed": false
   },
   "outputs": [],
   "source": [
    "bday_series = pd.Series(data=pd.to_datetime(birthdays), index=actor_names, name='birthday')\n",
    "print 'Got %i birthdays out of %i' % (len(bday_series[~bday_series.isnull()]), len(actor_names))\n",
    "bday_series.head()"
   ]
  },
  {
   "cell_type": "code",
   "execution_count": null,
   "metadata": {
    "collapsed": false
   },
   "outputs": [],
   "source": [
    "actor_rev_bday = actor_revenue.set_index('actor_name').join(bday_series)\n",
    "actor_rev_bday.tail()"
   ]
  },
  {
   "cell_type": "markdown",
   "metadata": {},
   "source": [
    "Which birthdays did we miss?"
   ]
  },
  {
   "cell_type": "code",
   "execution_count": null,
   "metadata": {
    "collapsed": false
   },
   "outputs": [],
   "source": [
    "actor_rev_bday[actor_rev_bday.birthday.isnull()].index.unique()"
   ]
  },
  {
   "cell_type": "markdown",
   "metadata": {},
   "source": [
    "It turns out these names will land you in a wikipedia disambiguation page, eg https://en.wikipedia.org/wiki/Adam_Scott\n",
    "\n",
    "I *could* re-scrape these names and follow the link that looks like `Adam Scott (actor)` to find the actor's page... but I'll ignore them for now."
   ]
  },
  {
   "cell_type": "markdown",
   "metadata": {},
   "source": [
    "# Gender? \n",
    "\n",
    "You could calculate the \"her\"+\"she\" to \"his\"+\"he\" ratio in the Wikipedia page text...\n",
    "\n",
    "Or you could search the categories for 'male'/'female' ratio.\n",
    "\n",
    "Or, the existing categories might be enough!"
   ]
  }
 ],
 "metadata": {
  "kernelspec": {
   "display_name": "Python 2",
   "language": "python",
   "name": "python2"
  },
  "language_info": {
   "codemirror_mode": {
    "name": "ipython",
    "version": 2
   },
   "file_extension": ".py",
   "mimetype": "text/x-python",
   "name": "python",
   "nbconvert_exporter": "python",
   "pygments_lexer": "ipython2",
   "version": "2.7.11"
  }
 },
 "nbformat": 4,
 "nbformat_minor": 0
}
