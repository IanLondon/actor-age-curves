{
 "cells": [
  {
   "cell_type": "code",
   "execution_count": 13,
   "metadata": {
    "collapsed": true
   },
   "outputs": [],
   "source": [
    "import tablescraper as scrape\n",
    "import requests\n",
    "import re"
   ]
  },
  {
   "cell_type": "code",
   "execution_count": 4,
   "metadata": {
    "collapsed": false
   },
   "outputs": [
    {
     "data": {
      "text/plain": [
       "['1965-04-04', '1971-05-27']"
      ]
     },
     "execution_count": 4,
     "metadata": {},
     "output_type": "execute_result"
    }
   ],
   "source": [
    "bdays = scrape.scrape_elems(\n",
    "    ['https://en.wikipedia.org/wiki/Robert_Downey_Jr.', 'https://en.wikipedia.org/wiki/Paul_Bettany'],\n",
    "    '//*[@class=\"bday\"]/text()')\n",
    "\n",
    "bdays"
   ]
  },
  {
   "cell_type": "markdown",
   "metadata": {},
   "source": [
    "## Get wikipedia page by actor_name, then get birthday"
   ]
  },
  {
   "cell_type": "code",
   "execution_count": 28,
   "metadata": {
    "collapsed": false
   },
   "outputs": [
    {
     "name": "stdout",
     "output_type": "stream",
     "text": [
      "Robert Downey, Jr. 1965-04-04 https://en.wikipedia.org/w/index.php?search=robert+downey+jr&title=Special%3ASearch&go=Go\n",
      "Ben Foster 1980-10-29 https://en.wikipedia.org/w/index.php?search=ben+foster&title=Special%3ASearch&go=Go\n",
      "Mireille Enos 1975-09-22 https://en.wikipedia.org/w/index.php?search=mireille+enos&title=Special%3ASearch&go=Go\n"
     ]
    }
   ],
   "source": [
    "def wikipedia_url(actor_names):\n",
    "\n",
    "    actor_names = scrape.to_sequence(actor_names)\n",
    "    final_urls = []\n",
    "    \n",
    "    for actor_name in actor_names:\n",
    "\n",
    "        url = 'https://en.wikipedia.org/w/index.php?search={name}&title=Special%3ASearch&go=Go'.format(\n",
    "            name=re.sub(r\"[^A-Za-z+]+\", '', actor_name.lower().replace(' ','+')))\n",
    "\n",
    "        final_urls.append(url)\n",
    "\n",
    "    return final_urls\n",
    "\n",
    "actor_names = ['Robert Downey, Jr.', 'Ben Foster', 'Mireille Enos']\n",
    "wiki_urls = wikipedia_url(actor_names)\n",
    "birthdays = scrape.scrape_elems(wiki_urls, '//*[@class=\"bday\"]/text()')\n",
    "\n",
    "for a,b,c in zip(actor_names,birthdays, wiki_urls):\n",
    "    print a,b,c"
   ]
  },
  {
   "cell_type": "code",
   "execution_count": 8,
   "metadata": {
    "collapsed": false
   },
   "outputs": [
    {
     "name": "stdout",
     "output_type": "stream",
     "text": [
      "['http://www.google.com/search?q=paulbettany+birthday', 'http://www.google.com/search?q=jeffbridges+birthday']\n"
     ]
    },
    {
     "ename": "IndexError",
     "evalue": "list index out of range",
     "output_type": "error",
     "traceback": [
      "\u001b[1;31m---------------------------------------------------------------------------\u001b[0m",
      "\u001b[1;31mIndexError\u001b[0m                                Traceback (most recent call last)",
      "\u001b[1;32m<ipython-input-8-05f7899a6d73>\u001b[0m in \u001b[0;36m<module>\u001b[1;34m()\u001b[0m\n\u001b[0;32m      4\u001b[0m \u001b[1;32mprint\u001b[0m \u001b[0mgoogle_urls\u001b[0m\u001b[1;33m\u001b[0m\u001b[0m\n\u001b[0;32m      5\u001b[0m \u001b[1;33m\u001b[0m\u001b[0m\n\u001b[1;32m----> 6\u001b[1;33m \u001b[0mgoogle_bdays\u001b[0m \u001b[1;33m=\u001b[0m \u001b[0mscrape\u001b[0m\u001b[1;33m.\u001b[0m\u001b[0mscrape_elems\u001b[0m\u001b[1;33m(\u001b[0m\u001b[0mgoogle_urls\u001b[0m\u001b[1;33m,\u001b[0m \u001b[1;34m'//*[@class=\"_XWk\"]'\u001b[0m\u001b[1;33m,\u001b[0m \u001b[1;36m0\u001b[0m\u001b[1;33m)\u001b[0m\u001b[1;33m\u001b[0m\u001b[0m\n\u001b[0m\u001b[0;32m      7\u001b[0m \u001b[1;33m\u001b[0m\u001b[0m\n\u001b[0;32m      8\u001b[0m \u001b[0mgoogle_bdays\u001b[0m\u001b[1;33m\u001b[0m\u001b[0m\n",
      "\u001b[1;32m/home/ian/metis/projects/actor-age-curves/tablescraper.pyc\u001b[0m in \u001b[0;36mscrape_elems\u001b[1;34m(urls, elem_xpath, elem_index, header)\u001b[0m\n\u001b[0;32m     74\u001b[0m         \u001b[1;32mif\u001b[0m \u001b[0melem_index\u001b[0m \u001b[1;32mis\u001b[0m \u001b[1;32mnot\u001b[0m \u001b[0mNone\u001b[0m\u001b[1;33m:\u001b[0m\u001b[1;33m\u001b[0m\u001b[0m\n\u001b[0;32m     75\u001b[0m             \u001b[0mlogging\u001b[0m\u001b[1;33m.\u001b[0m\u001b[0minfo\u001b[0m\u001b[1;33m(\u001b[0m\u001b[1;34m'selected the %ith'\u001b[0m \u001b[1;33m%\u001b[0m \u001b[0melem_index\u001b[0m\u001b[1;33m)\u001b[0m\u001b[1;33m\u001b[0m\u001b[0m\n\u001b[1;32m---> 76\u001b[1;33m             \u001b[0melem_el\u001b[0m \u001b[1;33m=\u001b[0m \u001b[0mall_elems\u001b[0m\u001b[1;33m[\u001b[0m\u001b[0melem_index\u001b[0m\u001b[1;33m]\u001b[0m\u001b[1;33m\u001b[0m\u001b[0m\n\u001b[0m\u001b[0;32m     77\u001b[0m \u001b[1;33m\u001b[0m\u001b[0m\n\u001b[0;32m     78\u001b[0m         \u001b[0mfinal_elems\u001b[0m\u001b[1;33m.\u001b[0m\u001b[0mappend\u001b[0m\u001b[1;33m(\u001b[0m\u001b[0melem_el\u001b[0m\u001b[1;33m)\u001b[0m\u001b[1;33m\u001b[0m\u001b[0m\n",
      "\u001b[1;31mIndexError\u001b[0m: list index out of range"
     ]
    }
   ],
   "source": [
    "# This doesn't work without a browser\n",
    "# \n",
    "# \n",
    "# google_urls = ['http://www.google.com/search?q={name}+birthday'.format(name=name) \n",
    "#         for name in ['paulbettany','jeffbridges']]\n",
    "\n",
    "# print google_urls\n",
    "\n",
    "# google_bdays = scrape.scrape_elems(google_urls, '//*[@class=\"_XWk\"]', 0)\n",
    "\n",
    "# google_bdays"
   ]
  },
  {
   "cell_type": "markdown",
   "metadata": {},
   "source": [
    "# Gender? \n",
    "\n",
    "You could calculate the \"her\"+\"she\" to \"his\"+\"he\" ratio in the Wikipedia page text...\n",
    "\n",
    "# Name linking?\n"
   ]
  },
  {
   "cell_type": "code",
   "execution_count": null,
   "metadata": {
    "collapsed": true
   },
   "outputs": [],
   "source": []
  }
 ],
 "metadata": {
  "kernelspec": {
   "display_name": "Python 2",
   "language": "python",
   "name": "python2"
  },
  "language_info": {
   "codemirror_mode": {
    "name": "ipython",
    "version": 2
   },
   "file_extension": ".py",
   "mimetype": "text/x-python",
   "name": "python",
   "nbconvert_exporter": "python",
   "pygments_lexer": "ipython2",
   "version": "2.7.11"
  }
 },
 "nbformat": 4,
 "nbformat_minor": 0
}
