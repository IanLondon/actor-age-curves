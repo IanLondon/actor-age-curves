{
 "cells": [
  {
   "cell_type": "markdown",
   "metadata": {},
   "source": [
    "# Requirements:\n",
    "\n",
    "You need to have to have `selenium` installed first: run `pip install selenium` in the terminal or with iPython run `!pip install selenium`.\n",
    "\n",
    "# Getting an HTML selection with selenium\n",
    "\n",
    "First, set up a Firefox webdriver and point it to our URL of interest."
   ]
  },
  {
   "cell_type": "code",
   "execution_count": 1,
   "metadata": {
    "collapsed": true
   },
   "outputs": [],
   "source": [
    "from selenium import webdriver\n",
    "\n",
    "driver = webdriver.Firefox()\n",
    "\n",
    "driver.get('https://en.wikipedia.org/wiki/International_Space_Station')"
   ]
  },
  {
   "cell_type": "markdown",
   "metadata": {},
   "source": [
    "Let's select the first `<table>` element from Wikipedia's ISS article as an example."
   ]
  },
  {
   "cell_type": "code",
   "execution_count": 2,
   "metadata": {
    "collapsed": false
   },
   "outputs": [],
   "source": [
    "iss_table = driver.find_element_by_xpath('//table')"
   ]
  },
  {
   "cell_type": "markdown",
   "metadata": {},
   "source": [
    "Now we want to see if our XPath selector got us what we were looking for.\n",
    "\n",
    "We can look at the raw HTML of that first `<table>` and see it it's what we wanted. To get the raw HTML of a selected element, we can get its `outerHTML` attribute:"
   ]
  },
  {
   "cell_type": "code",
   "execution_count": 3,
   "metadata": {
    "collapsed": false,
    "scrolled": true
   },
   "outputs": [
    {
     "name": "stdout",
     "output_type": "stream",
     "text": [
      "<table class=\"infobox\" style=\"font-size:88%; width:22em; text-align:left\">\n",
      "<caption>International Space Station</caption>\n",
      "<tbody><tr>\n",
      "<td colspan=\"3\" style=\"text-align:center;\"><a href=\"/wiki/File:Int\n",
      "\n",
      ". . .\n",
      "\n",
      "ex.php?title=International_Space_Station&amp;action=edit\">[update]</a></sup><br>\n",
      "(<a href=\"/wiki/Exploded_view\" title=\"Exploded view\" class=\"mw-redirect\">exploded view</a>)</td>\n",
      "</tr>\n",
      "</tbody></table>\n"
     ]
    }
   ],
   "source": [
    "iss_table_html = iss_table.get_attribute('outerHTML')\n",
    "\n",
    "print iss_table_html[:200]\n",
    "print '\\n. . .\\n'\n",
    "print iss_table_html[-200:]"
   ]
  },
  {
   "cell_type": "markdown",
   "metadata": {},
   "source": [
    "# Rendering the selected HTML in the notebook\n",
    "\n",
    "Reading raw HTML isn't very nice.\n",
    "\n",
    "Let's take advantage of some iPython Notebook magic: since we're viewing the notebook in a web browser, we can also render HTML content directly in the notebook. \n",
    "\n",
    "We lose whatever CSS styling was in the scraped website, as well as anything loaded from relative links, but we can see the general structure which is often all we want anyway.\n",
    "\n",
    "This can make it much easier to see what our XPath selectors are actually pulling from the site. Is it what we intended? Scraping HTML is a messy business and selectors often surprise you, so it's nice to be able to get visual feedback.\n",
    "\n",
    "Here is the same table as above, rendered in HTML in the iPython notebook. Relative links won't work, but in the example below the image of the ISS shows up correctly because its `src` is an absolute link."
   ]
  },
  {
   "cell_type": "code",
   "execution_count": 4,
   "metadata": {
    "collapsed": false
   },
   "outputs": [
    {
     "data": {
      "text/html": [
       "<table class=\"infobox\" style=\"font-size:88%; width:22em; text-align:left\">\n",
       "<caption>International Space Station</caption>\n",
       "<tbody><tr>\n",
       "<td colspan=\"3\" style=\"text-align:center;\"><a href=\"/wiki/File:International_Space_Station_after_undocking_of_STS-132.jpg\" class=\"image\"><img alt=\"A rearward view of the International Space Station backdropped by the limb of the Earth. In view are the station's four large, gold-coloured solar array wings, two on either side of the station, mounted to a central truss structure. Further along the truss are six large, white radiators, three next to each pair of arrays. In between the solar arrays and radiators is a cluster of pressurised modules arranged in an elongated T shape, also attached to the truss. A set of blue solar arrays are mounted to the module at the aft end of the cluster.\" src=\"//upload.wikimedia.org/wikipedia/commons/thumb/0/04/International_Space_Station_after_undocking_of_STS-132.jpg/300px-International_Space_Station_after_undocking_of_STS-132.jpg\" srcset=\"//upload.wikimedia.org/wikipedia/commons/thumb/0/04/International_Space_Station_after_undocking_of_STS-132.jpg/450px-International_Space_Station_after_undocking_of_STS-132.jpg 1.5x, //upload.wikimedia.org/wikipedia/commons/thumb/0/04/International_Space_Station_after_undocking_of_STS-132.jpg/600px-International_Space_Station_after_undocking_of_STS-132.jpg 2x\" data-file-width=\"3319\" data-file-height=\"2116\" height=\"191\" width=\"300\"></a></td>\n",
       "</tr>\n",
       "<tr>\n",
       "<td colspan=\"3\" style=\"font-size:90%; line-height:15px; text-align:center;\">The International Space Station on 23 May 2010 as seen from the departing <a href=\"/wiki/Space_Shuttle\" title=\"Space Shuttle\">Space Shuttle</a>&nbsp;<a href=\"/wiki/Space_Shuttle_Atlantis\" title=\"Space Shuttle Atlantis\"><i>Atlantis</i></a> during <a href=\"/wiki/STS-132\" title=\"STS-132\">STS-132</a>.</td>\n",
       "</tr>\n",
       "<tr>\n",
       "<th style=\"text-align:center;\" colspan=\"3\">Station statistics</th>\n",
       "</tr>\n",
       "<tr>\n",
       "<th><a href=\"/wiki/International_Designator\" title=\"International Designator\">COSPAR ID</a></th>\n",
       "<td>1998-067A</td>\n",
       "</tr>\n",
       "<tr>\n",
       "<th><a href=\"/wiki/Call_sign\" title=\"Call sign\">Call sign</a></th>\n",
       "<td><i>Alpha</i>, <i>Station</i></td>\n",
       "</tr>\n",
       "<tr>\n",
       "<th>Crew</th>\n",
       "<td>Fully crewed: 6<br>\n",
       "Currently aboard: 6<br>\n",
       "(<a href=\"/wiki/Expedition_47\" title=\"Expedition 47\">Expedition 47</a>)</td>\n",
       "</tr>\n",
       "<tr>\n",
       "<th><a href=\"/wiki/Rocket_launch\" title=\"Rocket launch\">Launch</a></th>\n",
       "<td>20 November 1998</td>\n",
       "</tr>\n",
       "<tr>\n",
       "<th><a href=\"/wiki/Launch_pad\" title=\"Launch pad\">Launch pad</a></th>\n",
       "<td><span class=\"nowrap\"><a href=\"/wiki/Baikonur_Cosmodrome\" title=\"Baikonur Cosmodrome\">Baikonur</a> <a href=\"/wiki/Gagarin%27s_Start\" title=\"Gagarin's Start\">1/5</a> and <a href=\"/wiki/Baikonur_Cosmodrome_Site_81\" title=\"Baikonur Cosmodrome Site 81\">81/23</a><br>\n",
       "<a href=\"/wiki/Kennedy_Space_Center\" title=\"Kennedy Space Center\">Kennedy</a> <a href=\"/wiki/Kennedy_Space_Center_Launch_Complex_39\" title=\"Kennedy Space Center Launch Complex 39\">LC-39</a></span></td>\n",
       "</tr>\n",
       "<tr>\n",
       "<th><a href=\"/wiki/Mass\" title=\"Mass\">Mass</a></th>\n",
       "<td>Appx. 419,455&nbsp;kg (924,740&nbsp;lb)<sup id=\"cite_ref-ISS_stats_1-0\" class=\"reference\"><a href=\"#cite_note-ISS_stats-1\">[1]</a></sup></td>\n",
       "</tr>\n",
       "<tr>\n",
       "<th>Length</th>\n",
       "<td>72.8&nbsp;m (239&nbsp;ft)</td>\n",
       "</tr>\n",
       "<tr>\n",
       "<th>Width</th>\n",
       "<td>108.5&nbsp;m (356&nbsp;ft)</td>\n",
       "</tr>\n",
       "<tr>\n",
       "<th>Height</th>\n",
       "<td>c. 20&nbsp;m (c. 66&nbsp;ft)<br>\n",
       "<small>nadir–zenith, arrays forward–aft</small><br>\n",
       "<small>(27 November 2009)<sup class=\"noprint Inline-Template\" style=\"margin-left:0.1em; white-space:nowrap;\">[<i><a href=\"/wiki/Wikipedia:Manual_of_Style/Dates_and_numbers#Precise_language\" title=\"Wikipedia:Manual of Style/Dates and numbers\"><span title=\"MRM-1 &amp; MRM-2\">dated info</span></a></i>]</sup></small></td>\n",
       "</tr>\n",
       "<tr>\n",
       "<th>Pressurised <a href=\"/wiki/Volume\" title=\"Volume\">volume</a></th>\n",
       "<td>916&nbsp;m<sup>3</sup> (32,300&nbsp;cu&nbsp;ft)<br>\n",
       "<small>(3 November 2014)</small></td>\n",
       "</tr>\n",
       "<tr>\n",
       "<th><a href=\"/wiki/Atmospheric_pressure\" title=\"Atmospheric pressure\">Atmospheric pressure</a></th>\n",
       "<td>101.3&nbsp;<a href=\"/wiki/Pascal_(unit)\" title=\"Pascal (unit)\">kPa</a> (29.91&nbsp;<a href=\"/wiki/Inch_of_mercury\" title=\"Inch of mercury\">inHg</a>, 1 <a href=\"/wiki/Atmosphere_(unit)\" title=\"Atmosphere (unit)\">atm</a>)</td>\n",
       "</tr>\n",
       "<tr>\n",
       "<th><a href=\"/wiki/Apsis\" title=\"Apsis\">Perigee</a></th>\n",
       "<td>409&nbsp;km (254&nbsp;mi) <a href=\"/wiki/Above_mean_sea_level\" title=\"Above mean sea level\" class=\"mw-redirect\">AMSL</a><sup id=\"cite_ref-heavens-above_2-0\" class=\"reference\"><a href=\"#cite_note-heavens-above-2\">[2]</a></sup></td>\n",
       "</tr>\n",
       "<tr>\n",
       "<th><a href=\"/wiki/Apsis\" title=\"Apsis\">Apogee</a></th>\n",
       "<td>416&nbsp;km (258&nbsp;mi) <a href=\"/wiki/Above_mean_sea_level\" title=\"Above mean sea level\" class=\"mw-redirect\">AMSL</a><sup id=\"cite_ref-heavens-above_2-1\" class=\"reference\"><a href=\"#cite_note-heavens-above-2\">[2]</a></sup></td>\n",
       "</tr>\n",
       "<tr>\n",
       "<th>Orbital <a href=\"/wiki/Inclination\" title=\"Inclination\" class=\"mw-redirect\">inclination</a></th>\n",
       "<td>51.65&nbsp;<a href=\"/wiki/Degree_(angle)\" title=\"Degree (angle)\">degrees</a><sup id=\"cite_ref-heavens-above_2-2\" class=\"reference\"><a href=\"#cite_note-heavens-above-2\">[2]</a></sup></td>\n",
       "</tr>\n",
       "<tr>\n",
       "<th>Average speed</th>\n",
       "<td>7.66 kilometres per second (27,600&nbsp;km/h; 17,100&nbsp;mph)<sup id=\"cite_ref-heavens-above_2-3\" class=\"reference\"><a href=\"#cite_note-heavens-above-2\">[2]</a></sup></td>\n",
       "</tr>\n",
       "<tr>\n",
       "<th><a href=\"/wiki/Orbital_period\" title=\"Orbital period\">Orbital period</a></th>\n",
       "<td>92.69&nbsp;minutes<sup id=\"cite_ref-heavens-above_2-4\" class=\"reference\"><a href=\"#cite_note-heavens-above-2\">[2]</a></sup></td>\n",
       "</tr>\n",
       "<tr>\n",
       "<th>Orbit epoch</th>\n",
       "<td>25 January 2015<sup id=\"cite_ref-heavens-above_2-5\" class=\"reference\"><a href=\"#cite_note-heavens-above-2\">[2]</a></sup></td>\n",
       "</tr>\n",
       "<tr>\n",
       "<th>Days in orbit</th>\n",
       "<td>6353<br>\n",
       "<small>(12 April)</small></td>\n",
       "</tr>\n",
       "<tr>\n",
       "<th>Days occupied</th>\n",
       "<td>5640<br>\n",
       "<small>(12 April)</small></td>\n",
       "</tr>\n",
       "<tr>\n",
       "<th>Number of orbits</th>\n",
       "<td>95912<sup id=\"cite_ref-heavens-above_2-6\" class=\"reference\"><a href=\"#cite_note-heavens-above-2\">[2]</a></sup></td>\n",
       "</tr>\n",
       "<tr>\n",
       "<th><a href=\"/wiki/Orbital_decay\" title=\"Orbital decay\">Orbital decay</a></th>\n",
       "<td>2&nbsp;km/month</td>\n",
       "</tr>\n",
       "<tr>\n",
       "<td style=\"font-size:90%; line-height:15px; text-align:center;\" colspan=\"3\">Statistics as of 9 March 2011<br>\n",
       "(unless noted otherwise)</td>\n",
       "</tr>\n",
       "<tr>\n",
       "<td style=\"font-size:90%; line-height:15px; text-align:center;\" colspan=\"3\">References: <sup id=\"cite_ref-ISS_stats_1-1\" class=\"reference\"><a href=\"#cite_note-ISS_stats-1\">[1]</a></sup><sup id=\"cite_ref-heavens-above_2-7\" class=\"reference\"><a href=\"#cite_note-heavens-above-2\">[2]</a></sup><sup id=\"cite_ref-ISStD_3-0\" class=\"reference\"><a href=\"#cite_note-ISStD-3\">[3]</a></sup><sup id=\"cite_ref-OnOrbit_4-0\" class=\"reference\"><a href=\"#cite_note-OnOrbit-4\">[4]</a></sup><sup id=\"cite_ref-5\" class=\"reference\"><a href=\"#cite_note-5\">[5]</a></sup><sup id=\"cite_ref-6\" class=\"reference\"><a href=\"#cite_note-6\">[6]</a></sup></td>\n",
       "</tr>\n",
       "<tr>\n",
       "<th style=\"text-align:center;\" colspan=\"3\">Configuration</th>\n",
       "</tr>\n",
       "<tr>\n",
       "<td style=\"text-align:center;\" colspan=\"3\"><a href=\"/wiki/File:ISS_configuration_2015-05_en.svg\" class=\"image\" title=\"Station elements as of  May 2015[update](exploded view)\"><img alt=\"The components of the ISS in an exploded diagram, with modules on-orbit highlighted in orange, and those still awaiting launch in blue or pink\" src=\"//upload.wikimedia.org/wikipedia/commons/thumb/d/d1/ISS_configuration_2015-05_en.svg/300px-ISS_configuration_2015-05_en.svg.png\" srcset=\"//upload.wikimedia.org/wikipedia/commons/thumb/d/d1/ISS_configuration_2015-05_en.svg/450px-ISS_configuration_2015-05_en.svg.png 1.5x, //upload.wikimedia.org/wikipedia/commons/thumb/d/d1/ISS_configuration_2015-05_en.svg/600px-ISS_configuration_2015-05_en.svg.png 2x\" data-file-width=\"1257\" data-file-height=\"864\" height=\"206\" width=\"300\"></a></td>\n",
       "</tr>\n",
       "<tr>\n",
       "<td colspan=\"3\" style=\"font-size:90%; line-height:15px; text-align:center;\">Station elements as of May 2015<sup class=\"plainlinks noprint asof-tag update\" style=\"display:none;\"><a class=\"external text\" href=\"//en.wikipedia.org/w/index.php?title=International_Space_Station&amp;action=edit\">[update]</a></sup><br>\n",
       "(<a href=\"/wiki/Exploded_view\" title=\"Exploded view\" class=\"mw-redirect\">exploded view</a>)</td>\n",
       "</tr>\n",
       "</tbody></table>"
      ],
      "text/plain": [
       "<IPython.core.display.HTML object>"
      ]
     },
     "metadata": {},
     "output_type": "display_data"
    }
   ],
   "source": [
    "# for ipython notebook display\n",
    "from IPython.core.display import display, HTML\n",
    "\n",
    "display(HTML(iss_table_html))"
   ]
  },
  {
   "cell_type": "markdown",
   "metadata": {
    "collapsed": true
   },
   "source": [
    "Much nicer!"
   ]
  },
  {
   "cell_type": "code",
   "execution_count": null,
   "metadata": {
    "collapsed": true
   },
   "outputs": [],
   "source": []
  }
 ],
 "metadata": {
  "kernelspec": {
   "display_name": "Python 2",
   "language": "python",
   "name": "python2"
  },
  "language_info": {
   "codemirror_mode": {
    "name": "ipython",
    "version": 2
   },
   "file_extension": ".py",
   "mimetype": "text/x-python",
   "name": "python",
   "nbconvert_exporter": "python",
   "pygments_lexer": "ipython2",
   "version": "2.7.11"
  }
 },
 "nbformat": 4,
 "nbformat_minor": 0
}
