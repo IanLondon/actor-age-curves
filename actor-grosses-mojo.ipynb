{
 "cells": [
  {
   "cell_type": "code",
   "execution_count": 1,
   "metadata": {
    "collapsed": false
   },
   "outputs": [],
   "source": [
    "import urlparse\n",
    "from tablescraper import paginate_url, scrape_elems, dfs_from_tables, combine_df_rows, html_to_string, url_params\n",
    "from IPython.core.display import display, HTML"
   ]
  },
  {
   "cell_type": "code",
   "execution_count": 2,
   "metadata": {
    "collapsed": false
   },
   "outputs": [
    {
     "name": "stdout",
     "output_type": "stream",
     "text": [
      "\n",
      " Done. Got 781 rows from 16 pages (3448 duplicates removed)\n"
     ]
    },
    {
     "data": {
      "text/html": [
       "<div>\n",
       "<table border=\"1\" class=\"dataframe\">\n",
       "  <thead>\n",
       "    <tr style=\"text-align: right;\">\n",
       "      <th></th>\n",
       "      <th>rank</th>\n",
       "      <th>actor</th>\n",
       "      <th>total_gross</th>\n",
       "      <th>no_movies</th>\n",
       "      <th>avg_gross</th>\n",
       "      <th>top_picture</th>\n",
       "      <th>top_gross</th>\n",
       "    </tr>\n",
       "  </thead>\n",
       "  <tbody>\n",
       "    <tr>\n",
       "      <th>0</th>\n",
       "      <td>1</td>\n",
       "      <td>Harrison Ford</td>\n",
       "      <td>$4,870.6</td>\n",
       "      <td>41</td>\n",
       "      <td>$118.8</td>\n",
       "      <td>Star Wars: The Force Awakens</td>\n",
       "      <td>$935.6</td>\n",
       "    </tr>\n",
       "    <tr>\n",
       "      <th>1</th>\n",
       "      <td>2</td>\n",
       "      <td>Samuel L. Jackson</td>\n",
       "      <td>$4,646.7</td>\n",
       "      <td>68</td>\n",
       "      <td>$68.3</td>\n",
       "      <td>The Avengers</td>\n",
       "      <td>$623.4</td>\n",
       "    </tr>\n",
       "    <tr>\n",
       "      <th>2</th>\n",
       "      <td>3</td>\n",
       "      <td>Morgan Freeman</td>\n",
       "      <td>$4,377.3</td>\n",
       "      <td>59</td>\n",
       "      <td>$74.2</td>\n",
       "      <td>The Dark Knight</td>\n",
       "      <td>$534.9</td>\n",
       "    </tr>\n",
       "    <tr>\n",
       "      <th>3</th>\n",
       "      <td>4</td>\n",
       "      <td>Tom Hanks</td>\n",
       "      <td>$4,336.5</td>\n",
       "      <td>43</td>\n",
       "      <td>$100.8</td>\n",
       "      <td>Toy Story 3</td>\n",
       "      <td>$415.0</td>\n",
       "    </tr>\n",
       "    <tr>\n",
       "      <th>4</th>\n",
       "      <td>5</td>\n",
       "      <td>Eddie Murphy</td>\n",
       "      <td>$3,810.4</td>\n",
       "      <td>38</td>\n",
       "      <td>$100.3</td>\n",
       "      <td>Shrek 2</td>\n",
       "      <td>$441.2</td>\n",
       "    </tr>\n",
       "  </tbody>\n",
       "</table>\n",
       "</div>"
      ],
      "text/plain": [
       "   rank              actor total_gross  no_movies avg_gross  \\\n",
       "0     1      Harrison Ford    $4,870.6         41    $118.8   \n",
       "1     2  Samuel L. Jackson    $4,646.7         68     $68.3   \n",
       "2     3     Morgan Freeman    $4,377.3         59     $74.2   \n",
       "3     4          Tom Hanks    $4,336.5         43    $100.8   \n",
       "4     5       Eddie Murphy    $3,810.4         38    $100.3   \n",
       "\n",
       "                    top_picture top_gross  \n",
       "0  Star Wars: The Force Awakens    $935.6  \n",
       "1                  The Avengers    $623.4  \n",
       "2               The Dark Knight    $534.9  \n",
       "3                   Toy Story 3    $415.0  \n",
       "4                       Shrek 2    $441.2  "
      ]
     },
     "execution_count": 2,
     "metadata": {},
     "output_type": "execute_result"
    }
   ],
   "source": [
    "actor_page_urls = paginate_url(\n",
    "    'http://www.boxofficemojo.com/people/?view=Actor&pagenum={pagenum}&sort=sumgross&order=DESC&&p=.htm', 16)\n",
    "\n",
    "actor_page_tables = scrape_elems(actor_page_urls, '//table//table', elem_index=0)\n",
    "\n",
    "actor_page_dfs = dfs_from_tables(actor_page_tables,\n",
    "    header=['rank','actor','total_gross','no_movies','avg_gross','top_picture','top_gross'])\n",
    "\n",
    "actor_gross = combine_df_rows(actor_page_dfs, ignore_index=True)\n",
    "\n",
    "pre_dedup_len = len(actor_gross)\n",
    "\n",
    "# remove duplicates\n",
    "actor_gross.drop_duplicates(subset='rank', keep='first', inplace=True)\n",
    "\n",
    "print '\\n Done. Got %i rows from %i pages (%i duplicates removed)' % (\n",
    "    len(actor_gross), len(actor_page_urls), pre_dedup_len)\n",
    "\n",
    "actor_gross.head()"
   ]
  },
  {
   "cell_type": "code",
   "execution_count": 3,
   "metadata": {
    "collapsed": false
   },
   "outputs": [
    {
     "name": "stdout",
     "output_type": "stream",
     "text": [
      "Got 48 rows\n"
     ]
    },
    {
     "data": {
      "text/html": [
       "<div>\n",
       "<table border=\"1\" class=\"dataframe\">\n",
       "  <thead>\n",
       "    <tr style=\"text-align: right;\">\n",
       "      <th></th>\n",
       "      <th>rank</th>\n",
       "      <th>title</th>\n",
       "      <th>studio</th>\n",
       "      <th>adjusted_gross</th>\n",
       "      <th>unadjusted_gross</th>\n",
       "      <th>release</th>\n",
       "    </tr>\n",
       "  </thead>\n",
       "  <tbody>\n",
       "    <tr>\n",
       "      <th>0</th>\n",
       "      <td>1</td>\n",
       "      <td>Star Wars</td>\n",
       "      <td>Fox</td>\n",
       "      <td>$1,549,640,500</td>\n",
       "      <td>$460,998,007</td>\n",
       "      <td>5/25/77</td>\n",
       "    </tr>\n",
       "    <tr>\n",
       "      <th>1</th>\n",
       "      <td>2</td>\n",
       "      <td>Star Wars: The Force Awakens</td>\n",
       "      <td>BV</td>\n",
       "      <td>$935,585,300</td>\n",
       "      <td>$935,585,257</td>\n",
       "      <td>12/18/15</td>\n",
       "    </tr>\n",
       "    <tr>\n",
       "      <th>2</th>\n",
       "      <td>3</td>\n",
       "      <td>The Empire Strikes Back</td>\n",
       "      <td>Fox</td>\n",
       "      <td>$854,171,500</td>\n",
       "      <td>$290,475,067</td>\n",
       "      <td>5/21/80</td>\n",
       "    </tr>\n",
       "    <tr>\n",
       "      <th>3</th>\n",
       "      <td>4</td>\n",
       "      <td>Return of the Jedi</td>\n",
       "      <td>Fox</td>\n",
       "      <td>$818,316,900</td>\n",
       "      <td>$309,306,177</td>\n",
       "      <td>5/25/83</td>\n",
       "    </tr>\n",
       "    <tr>\n",
       "      <th>4</th>\n",
       "      <td>5</td>\n",
       "      <td>Raiders of the Lost Ark</td>\n",
       "      <td>Par.</td>\n",
       "      <td>$770,183,000</td>\n",
       "      <td>$248,159,971</td>\n",
       "      <td>6/12/81</td>\n",
       "    </tr>\n",
       "  </tbody>\n",
       "</table>\n",
       "</div>"
      ],
      "text/plain": [
       "  rank                         title studio  adjusted_gross unadjusted_gross  \\\n",
       "0    1                     Star Wars    Fox  $1,549,640,500     $460,998,007   \n",
       "1    2  Star Wars: The Force Awakens     BV    $935,585,300     $935,585,257   \n",
       "2    3       The Empire Strikes Back    Fox    $854,171,500     $290,475,067   \n",
       "3    4            Return of the Jedi    Fox    $818,316,900     $309,306,177   \n",
       "4    5       Raiders of the Lost Ark   Par.    $770,183,000     $248,159,971   \n",
       "\n",
       "    release  \n",
       "0   5/25/77  \n",
       "1  12/18/15  \n",
       "2   5/21/80  \n",
       "3   5/25/83  \n",
       "4   6/12/81  "
      ]
     },
     "execution_count": 3,
     "metadata": {},
     "output_type": "execute_result"
    }
   ],
   "source": [
    "# selects the table 'Adjusted for Ticket Price Inflation'\n",
    "# adjusted_gross_xpath = '(//table)[5]'\n",
    "adjusted_gross_xpath = '//*[text()=\"Adjusted for Ticket Price Inflation\"]/parent::node()/following::table[1]'\n",
    "\n",
    "harrison_ford_table = scrape_elems(\n",
    "    'http://www.boxofficemojo.com/people/chart/?view=Actor&id=harrisonford.htm', \n",
    "    adjusted_gross_xpath, elem_index=0)\n",
    "\n",
    "actor_info_headers = 'Rank Title Studio Adjusted_Gross Unadjusted_Gross Release'.lower().split()\n",
    "\n",
    "harrison_ford_df = dfs_from_tables(harrison_ford_table,\n",
    "    header=actor_info_headers)[0]\n",
    "\n",
    "print 'Got %i rows' % len(harrison_ford_df)\n",
    "harrison_ford_df.head()"
   ]
  },
  {
   "cell_type": "markdown",
   "metadata": {},
   "source": [
    "# Get links to all the actors' pages"
   ]
  },
  {
   "cell_type": "code",
   "execution_count": 4,
   "metadata": {
    "collapsed": false
   },
   "outputs": [
    {
     "name": "stdout",
     "output_type": "stream",
     "text": [
      "['./chart/?view=Actor&id=morganspurlock.htm', './chart/?view=Actor&id=maconblair.htm', './chart/?view=Actor&id=mikenichols.htm', './chart/?view=Actor&id=davidwain.htm', './chart/?view=Actor&id=sebastiansilva.htm', './chart/?view=Actor&id=leighwhannell.htm', './chart/?view=Actor&id=eliroth.htm', './chart/?view=Actor&id=jaychandrasekhar.htm', './chart/?view=Actor&id=alexrossperry.htm', './chart/?view=Actor&id=josephschneider.htm']\n",
      "3448\n"
     ]
    },
    {
     "data": {
      "text/plain": [
       "[2180, 2511, 2792, 3023, 3204, 3335, 3416, 3447]"
      ]
     },
     "execution_count": 4,
     "metadata": {},
     "output_type": "execute_result"
    }
   ],
   "source": [
    "actor_links = [actor_link \n",
    "   for page_table in actor_page_tables \n",
    "   for actor_link in page_table.xpath('((//table)[3]//td[2])[position()>1]//a/@href')]\n",
    "\n",
    "print actor_links[-10:]\n",
    "print len(actor_links)\n",
    "[i for i, x in enumerate(actor_links) if 'josephschneider' in x]"
   ]
  },
  {
   "cell_type": "code",
   "execution_count": 5,
   "metadata": {
    "collapsed": false
   },
   "outputs": [
    {
     "name": "stdout",
     "output_type": "stream",
     "text": [
      "[50, 100, 150, 200, 250, 300, 350, 400, 381, 331, 281, 231, 181, 131, 81, 31]\n",
      "3448\n"
     ]
    }
   ],
   "source": [
    "actor_rows_per_page = [len(page_table.xpath('((//table)[3]//td[2])[position()>1]//a/@href'))\n",
    "                             for page_table in actor_page_tables]\n",
    "print actor_rows_per_page\n",
    "print sum(actor_rows_per_page)"
   ]
  },
  {
   "cell_type": "markdown",
   "metadata": {},
   "source": [
    "Wow, it turns out that Box Office Mojo's pagination is broken. Each page is supposed to have 50 rows, but instead has some random number of rows usually over 100. The next page overlaps the previous. This is a mess!\n",
    "\n",
    "Since I only care about getting the links, I can just make a set"
   ]
  },
  {
   "cell_type": "code",
   "execution_count": 6,
   "metadata": {
    "collapsed": false
   },
   "outputs": [
    {
     "name": "stdout",
     "output_type": "stream",
     "text": [
      "781\n"
     ]
    }
   ],
   "source": [
    "actor_links_set = set(actor_links)\n",
    "print len(actor_links_set)\n",
    "# As of 2016-04-13, this number should be 781"
   ]
  },
  {
   "cell_type": "code",
   "execution_count": 10,
   "metadata": {
    "collapsed": false
   },
   "outputs": [
    {
     "name": "stdout",
     "output_type": "stream",
     "text": [
      "781\n",
      "['http://www.boxofficemojo.com/people/chart/?view=Actor&id=paulbettany.htm', 'http://www.boxofficemojo.com/people/chart/?view=Actor&id=katebosworth.htm', 'http://www.boxofficemojo.com/people/chart/?view=Actor&id=christinetaylor.htm', 'http://www.boxofficemojo.com/people/chart/?view=Actor&id=kathybates.htm', 'http://www.boxofficemojo.com/people/chart/?view=Actor&id=jackdavenport.htm', 'http://www.boxofficemojo.com/people/chart/?view=Actor&id=violadavis.htm', 'http://www.boxofficemojo.com/people/chart/?view=Actor&id=umathurman.htm', 'http://www.boxofficemojo.com/people/chart/?view=Actor&id=evamendes.htm', 'http://www.boxofficemojo.com/people/chart/?view=Actor&id=melissabenoist.htm', 'http://www.boxofficemojo.com/people/chart/?view=Actor&id=jessicabiel.htm']\n"
     ]
    }
   ],
   "source": [
    "base_url = 'http://www.boxofficemojo.com/people/'\n",
    "actor_links_abs = [urlparse.urljoin(base_url, rel_link) for rel_link in actor_links_set]\n",
    "print len(actor_links_abs)\n",
    "print actor_links_abs[:10]"
   ]
  },
  {
   "cell_type": "markdown",
   "metadata": {},
   "source": [
    "Finally, actor_links_abs has all the actor page links. The next step is to scrape the 'Adjusted for Ticket Price Inflation' tables from each actor page using those links."
   ]
  },
  {
   "cell_type": "code",
   "execution_count": 8,
   "metadata": {
    "collapsed": false
   },
   "outputs": [
    {
     "name": "stdout",
     "output_type": "stream",
     "text": [
      "Got 16416 rows\n"
     ]
    },
    {
     "data": {
      "text/html": [
       "<div>\n",
       "<table border=\"1\" class=\"dataframe\">\n",
       "  <thead>\n",
       "    <tr style=\"text-align: right;\">\n",
       "      <th></th>\n",
       "      <th>rank</th>\n",
       "      <th>title</th>\n",
       "      <th>studio</th>\n",
       "      <th>adjusted_gross</th>\n",
       "      <th>unadjusted_gross</th>\n",
       "      <th>release</th>\n",
       "      <th>actor_id</th>\n",
       "    </tr>\n",
       "  </thead>\n",
       "  <tbody>\n",
       "    <tr>\n",
       "      <th>0</th>\n",
       "      <td>-</td>\n",
       "      <td>Marvel's The Avengers</td>\n",
       "      <td>BV</td>\n",
       "      <td>$668,866,600</td>\n",
       "      <td>$623,357,910</td>\n",
       "      <td>5/4/12</td>\n",
       "      <td>paulbettany.htm</td>\n",
       "    </tr>\n",
       "    <tr>\n",
       "      <th>1</th>\n",
       "      <td>1</td>\n",
       "      <td>Avengers: Age of Ultron</td>\n",
       "      <td>BV</td>\n",
       "      <td>$465,684,200</td>\n",
       "      <td>$459,005,868</td>\n",
       "      <td>5/1/15</td>\n",
       "      <td>paulbettany.htm</td>\n",
       "    </tr>\n",
       "    <tr>\n",
       "      <th>2</th>\n",
       "      <td>-</td>\n",
       "      <td>Iron Man 3</td>\n",
       "      <td>BV</td>\n",
       "      <td>$424,632,700</td>\n",
       "      <td>$409,013,994</td>\n",
       "      <td>5/3/13</td>\n",
       "      <td>paulbettany.htm</td>\n",
       "    </tr>\n",
       "    <tr>\n",
       "      <th>3</th>\n",
       "      <td>-</td>\n",
       "      <td>Iron Man</td>\n",
       "      <td>Par.</td>\n",
       "      <td>$385,808,100</td>\n",
       "      <td>$318,412,101</td>\n",
       "      <td>5/2/08</td>\n",
       "      <td>paulbettany.htm</td>\n",
       "    </tr>\n",
       "    <tr>\n",
       "      <th>4</th>\n",
       "      <td>-</td>\n",
       "      <td>Iron Man 2</td>\n",
       "      <td>Par.</td>\n",
       "      <td>$341,908,200</td>\n",
       "      <td>$312,433,331</td>\n",
       "      <td>5/7/10</td>\n",
       "      <td>paulbettany.htm</td>\n",
       "    </tr>\n",
       "  </tbody>\n",
       "</table>\n",
       "</div>"
      ],
      "text/plain": [
       "  rank                    title studio adjusted_gross unadjusted_gross  \\\n",
       "0    -    Marvel's The Avengers     BV   $668,866,600     $623,357,910   \n",
       "1    1  Avengers: Age of Ultron     BV   $465,684,200     $459,005,868   \n",
       "2    -               Iron Man 3     BV   $424,632,700     $409,013,994   \n",
       "3    -                 Iron Man   Par.   $385,808,100     $318,412,101   \n",
       "4    -               Iron Man 2   Par.   $341,908,200     $312,433,331   \n",
       "\n",
       "  release         actor_id  \n",
       "0  5/4/12  paulbettany.htm  \n",
       "1  5/1/15  paulbettany.htm  \n",
       "2  5/3/13  paulbettany.htm  \n",
       "3  5/2/08  paulbettany.htm  \n",
       "4  5/7/10  paulbettany.htm  "
      ]
     },
     "execution_count": 8,
     "metadata": {},
     "output_type": "execute_result"
    }
   ],
   "source": [
    "actor_revenues_tables = scrape_elems(actor_links_abs, adjusted_gross_xpath, 0, actor_info_headers)\n",
    "\n",
    "actor_revenues_dfs = dfs_from_tables(actor_revenues_tables,\n",
    "    header=actor_info_headers)\n",
    "\n",
    "# Create actor_id column using actor's unique URL id\n",
    "for actor_link, df in zip(actor_links_abs, actor_revenues_dfs):\n",
    "    df['actor_id'] = url_params(actor_link)['id'][0]\n",
    "\n",
    "actor_revenue = combine_df_rows(actor_revenues_dfs, ignore_index=True)\n",
    "\n",
    "print 'Got %i rows' % len(actor_revenue)\n",
    "print '%i unique actors scraped' % len(actor_revenue.actor_id.unique())\n",
    "actor_revenue.head()"
   ]
  },
  {
   "cell_type": "code",
   "execution_count": 13,
   "metadata": {
    "collapsed": false
   },
   "outputs": [
    {
     "data": {
      "text/html": [
       "<div>\n",
       "<table border=\"1\" class=\"dataframe\">\n",
       "  <thead>\n",
       "    <tr style=\"text-align: right;\">\n",
       "      <th></th>\n",
       "      <th>rank</th>\n",
       "      <th>title</th>\n",
       "      <th>studio</th>\n",
       "      <th>adjusted_gross</th>\n",
       "      <th>unadjusted_gross</th>\n",
       "      <th>release</th>\n",
       "      <th>actor_id</th>\n",
       "    </tr>\n",
       "  </thead>\n",
       "  <tbody>\n",
       "    <tr>\n",
       "      <th>3</th>\n",
       "      <td>-</td>\n",
       "      <td>Iron Man</td>\n",
       "      <td>Par.</td>\n",
       "      <td>$385,808,100</td>\n",
       "      <td>$318,412,101</td>\n",
       "      <td>5/2/08</td>\n",
       "      <td>paulbettany.htm</td>\n",
       "    </tr>\n",
       "    <tr>\n",
       "      <th>1549</th>\n",
       "      <td>-</td>\n",
       "      <td>Iron Man</td>\n",
       "      <td>Par.</td>\n",
       "      <td>$385,808,100</td>\n",
       "      <td>$318,412,101</td>\n",
       "      <td>5/2/08</td>\n",
       "      <td>jonfavreau.htm</td>\n",
       "    </tr>\n",
       "    <tr>\n",
       "      <th>3343</th>\n",
       "      <td>1</td>\n",
       "      <td>Iron Man</td>\n",
       "      <td>Par.</td>\n",
       "      <td>$385,808,100</td>\n",
       "      <td>$318,412,101</td>\n",
       "      <td>5/2/08</td>\n",
       "      <td>terrencehoward.htm</td>\n",
       "    </tr>\n",
       "    <tr>\n",
       "      <th>4114</th>\n",
       "      <td>2</td>\n",
       "      <td>Iron Man</td>\n",
       "      <td>Par.</td>\n",
       "      <td>$385,808,100</td>\n",
       "      <td>$318,412,101</td>\n",
       "      <td>5/2/08</td>\n",
       "      <td>clarkgregg.htm</td>\n",
       "    </tr>\n",
       "    <tr>\n",
       "      <th>4668</th>\n",
       "      <td>-</td>\n",
       "      <td>Iron Man</td>\n",
       "      <td>Par.</td>\n",
       "      <td>$385,808,100</td>\n",
       "      <td>$318,412,101</td>\n",
       "      <td>5/2/08</td>\n",
       "      <td>samuelljackson.htm</td>\n",
       "    </tr>\n",
       "    <tr>\n",
       "      <th>7883</th>\n",
       "      <td>1</td>\n",
       "      <td>Iron Man</td>\n",
       "      <td>Par.</td>\n",
       "      <td>$385,808,100</td>\n",
       "      <td>$318,412,101</td>\n",
       "      <td>5/2/08</td>\n",
       "      <td>jeffbridges.htm</td>\n",
       "    </tr>\n",
       "    <tr>\n",
       "      <th>8099</th>\n",
       "      <td>4</td>\n",
       "      <td>Iron Man</td>\n",
       "      <td>Par.</td>\n",
       "      <td>$385,808,100</td>\n",
       "      <td>$318,412,101</td>\n",
       "      <td>5/2/08</td>\n",
       "      <td>robertdowneyjr.htm</td>\n",
       "    </tr>\n",
       "    <tr>\n",
       "      <th>8651</th>\n",
       "      <td>2</td>\n",
       "      <td>Iron Man</td>\n",
       "      <td>Par.</td>\n",
       "      <td>$385,808,100</td>\n",
       "      <td>$318,412,101</td>\n",
       "      <td>5/2/08</td>\n",
       "      <td>gwynethpaltrow.htm</td>\n",
       "    </tr>\n",
       "  </tbody>\n",
       "</table>\n",
       "</div>"
      ],
      "text/plain": [
       "     rank     title studio adjusted_gross unadjusted_gross release  \\\n",
       "3       -  Iron Man   Par.   $385,808,100     $318,412,101  5/2/08   \n",
       "1549    -  Iron Man   Par.   $385,808,100     $318,412,101  5/2/08   \n",
       "3343    1  Iron Man   Par.   $385,808,100     $318,412,101  5/2/08   \n",
       "4114    2  Iron Man   Par.   $385,808,100     $318,412,101  5/2/08   \n",
       "4668    -  Iron Man   Par.   $385,808,100     $318,412,101  5/2/08   \n",
       "7883    1  Iron Man   Par.   $385,808,100     $318,412,101  5/2/08   \n",
       "8099    4  Iron Man   Par.   $385,808,100     $318,412,101  5/2/08   \n",
       "8651    2  Iron Man   Par.   $385,808,100     $318,412,101  5/2/08   \n",
       "\n",
       "                actor_id  \n",
       "3        paulbettany.htm  \n",
       "1549      jonfavreau.htm  \n",
       "3343  terrencehoward.htm  \n",
       "4114      clarkgregg.htm  \n",
       "4668  samuelljackson.htm  \n",
       "7883     jeffbridges.htm  \n",
       "8099  robertdowneyjr.htm  \n",
       "8651  gwynethpaltrow.htm  "
      ]
     },
     "execution_count": 13,
     "metadata": {},
     "output_type": "execute_result"
    }
   ],
   "source": [
    "actor_revenue[actor_revenue['title'] == 'Iron Man']"
   ]
  },
  {
   "cell_type": "code",
   "execution_count": null,
   "metadata": {
    "collapsed": true
   },
   "outputs": [],
   "source": []
  }
 ],
 "metadata": {
  "kernelspec": {
   "display_name": "Python 2",
   "language": "python",
   "name": "python2"
  },
  "language_info": {
   "codemirror_mode": {
    "name": "ipython",
    "version": 2
   },
   "file_extension": ".py",
   "mimetype": "text/x-python",
   "name": "python",
   "nbconvert_exporter": "python",
   "pygments_lexer": "ipython2",
   "version": "2.7.11"
  }
 },
 "nbformat": 4,
 "nbformat_minor": 0
}
