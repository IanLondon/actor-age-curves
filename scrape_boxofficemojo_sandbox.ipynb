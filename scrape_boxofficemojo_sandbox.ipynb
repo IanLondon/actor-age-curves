{
 "cells": [
  {
   "cell_type": "code",
   "execution_count": 24,
   "metadata": {
    "collapsed": false
   },
   "outputs": [],
   "source": [
    "from lxml import html\n",
    "from lxml.etree import tostring as html_to_string\n",
    "import requests\n",
    "import pandas as pd"
   ]
  },
  {
   "cell_type": "code",
   "execution_count": null,
   "metadata": {
    "collapsed": true
   },
   "outputs": [],
   "source": [
    "page = requests.get('http://www.boxofficemojo.com/people/?view=Actor&pagenum=3&sort=person&order=ASC&p=.htm')\n",
    "tree = html.fromstring(page.content)"
   ]
  },
  {
   "cell_type": "code",
   "execution_count": 26,
   "metadata": {
    "collapsed": false
   },
   "outputs": [],
   "source": [
    "table_data = tree.xpath('//table//table')[0]\n",
    "table_data.text"
   ]
  },
  {
   "cell_type": "code",
   "execution_count": 27,
   "metadata": {
    "collapsed": false
   },
   "outputs": [],
   "source": [
    "# Running this line will open a new tab and show the rendered HTML content of the element\n",
    "\n",
    "# html.open_in_browser(table_data)"
   ]
  },
  {
   "cell_type": "code",
   "execution_count": 28,
   "metadata": {
    "collapsed": false
   },
   "outputs": [
    {
     "data": {
      "text/plain": [
       "'<table border=\"0\" cellspacing=\"1\" cellpadding=\"5\" width=\"98%\"><tr bgcolor=\"#dcdcdc\"><td align=\"cente'"
      ]
     },
     "execution_count": 28,
     "metadata": {},
     "output_type": "execute_result"
    }
   ],
   "source": [
    "html_to_string(table_data)[:100]"
   ]
  },
  {
   "cell_type": "code",
   "execution_count": 51,
   "metadata": {
    "collapsed": false
   },
   "outputs": [],
   "source": [
    "# pd.read_html gives a list of tables. Since we already selected the table, set match=''\n",
    "# also, skip the header row. It's ugly so we'll put our own in later\n",
    "tables = pd.read_html(html_to_string(table_data), match='', skiprows=1)\n",
    "assert len(tables) == 1"
   ]
  },
  {
   "cell_type": "code",
   "execution_count": 52,
   "metadata": {
    "collapsed": false
   },
   "outputs": [
    {
     "data": {
      "text/html": [
       "<div>\n",
       "<table border=\"1\" class=\"dataframe\">\n",
       "  <thead>\n",
       "    <tr style=\"text-align: right;\">\n",
       "      <th></th>\n",
       "      <th>0</th>\n",
       "      <th>1</th>\n",
       "      <th>2</th>\n",
       "      <th>3</th>\n",
       "      <th>4</th>\n",
       "      <th>5</th>\n",
       "    </tr>\n",
       "  </thead>\n",
       "  <tbody>\n",
       "    <tr>\n",
       "      <th>0</th>\n",
       "      <td>Daniel Radcliffe</td>\n",
       "      <td>$2,565.1</td>\n",
       "      <td>15</td>\n",
       "      <td>$171.0</td>\n",
       "      <td>Harry Potter / Deathly Hallows (P2)</td>\n",
       "      <td>$381.0</td>\n",
       "    </tr>\n",
       "    <tr>\n",
       "      <th>1</th>\n",
       "      <td>Josh Radnor</td>\n",
       "      <td>$718k</td>\n",
       "      <td>3</td>\n",
       "      <td>$239k</td>\n",
       "      <td>Liberal Arts</td>\n",
       "      <td>$327k</td>\n",
       "    </tr>\n",
       "    <tr>\n",
       "      <th>2</th>\n",
       "      <td>Edgar Ramirez</td>\n",
       "      <td>$305.5</td>\n",
       "      <td>7</td>\n",
       "      <td>$43.6</td>\n",
       "      <td>Zero Dark Thirty</td>\n",
       "      <td>$95.7</td>\n",
       "    </tr>\n",
       "    <tr>\n",
       "      <th>3</th>\n",
       "      <td>Harold Ramis</td>\n",
       "      <td>$11.6</td>\n",
       "      <td>1</td>\n",
       "      <td>$11.6</td>\n",
       "      <td>The Last Kiss (2006)</td>\n",
       "      <td>$11.6</td>\n",
       "    </tr>\n",
       "    <tr>\n",
       "      <th>4</th>\n",
       "      <td>Noomi Rapace</td>\n",
       "      <td>$359.2</td>\n",
       "      <td>9</td>\n",
       "      <td>$39.9</td>\n",
       "      <td>Sherlock Holmes 2</td>\n",
       "      <td>$186.8</td>\n",
       "    </tr>\n",
       "  </tbody>\n",
       "</table>\n",
       "</div>"
      ],
      "text/plain": [
       "                  0         1   2       3  \\\n",
       "0  Daniel Radcliffe  $2,565.1  15  $171.0   \n",
       "1       Josh Radnor     $718k   3   $239k   \n",
       "2     Edgar Ramirez    $305.5   7   $43.6   \n",
       "3      Harold Ramis     $11.6   1   $11.6   \n",
       "4      Noomi Rapace    $359.2   9   $39.9   \n",
       "\n",
       "                                     4       5  \n",
       "0  Harry Potter / Deathly Hallows (P2)  $381.0  \n",
       "1                         Liberal Arts   $327k  \n",
       "2                     Zero Dark Thirty   $95.7  \n",
       "3                 The Last Kiss (2006)   $11.6  \n",
       "4                    Sherlock Holmes 2  $186.8  "
      ]
     },
     "execution_count": 52,
     "metadata": {},
     "output_type": "execute_result"
    }
   ],
   "source": [
    "actor_df = tables[0]\n",
    "actor_df.head()"
   ]
  },
  {
   "cell_type": "code",
   "execution_count": 53,
   "metadata": {
    "collapsed": false
   },
   "outputs": [
    {
     "data": {
      "text/html": [
       "<div>\n",
       "<table border=\"1\" class=\"dataframe\">\n",
       "  <thead>\n",
       "    <tr style=\"text-align: right;\">\n",
       "      <th></th>\n",
       "      <th>actor</th>\n",
       "      <th>total_gross</th>\n",
       "      <th>no_movies</th>\n",
       "      <th>avg_gross</th>\n",
       "      <th>top_picture</th>\n",
       "      <th>top_gross</th>\n",
       "    </tr>\n",
       "  </thead>\n",
       "  <tbody>\n",
       "    <tr>\n",
       "      <th>0</th>\n",
       "      <td>Daniel Radcliffe</td>\n",
       "      <td>$2,565.1</td>\n",
       "      <td>15</td>\n",
       "      <td>$171.0</td>\n",
       "      <td>Harry Potter / Deathly Hallows (P2)</td>\n",
       "      <td>$381.0</td>\n",
       "    </tr>\n",
       "    <tr>\n",
       "      <th>1</th>\n",
       "      <td>Josh Radnor</td>\n",
       "      <td>$718k</td>\n",
       "      <td>3</td>\n",
       "      <td>$239k</td>\n",
       "      <td>Liberal Arts</td>\n",
       "      <td>$327k</td>\n",
       "    </tr>\n",
       "    <tr>\n",
       "      <th>2</th>\n",
       "      <td>Edgar Ramirez</td>\n",
       "      <td>$305.5</td>\n",
       "      <td>7</td>\n",
       "      <td>$43.6</td>\n",
       "      <td>Zero Dark Thirty</td>\n",
       "      <td>$95.7</td>\n",
       "    </tr>\n",
       "    <tr>\n",
       "      <th>3</th>\n",
       "      <td>Harold Ramis</td>\n",
       "      <td>$11.6</td>\n",
       "      <td>1</td>\n",
       "      <td>$11.6</td>\n",
       "      <td>The Last Kiss (2006)</td>\n",
       "      <td>$11.6</td>\n",
       "    </tr>\n",
       "    <tr>\n",
       "      <th>4</th>\n",
       "      <td>Noomi Rapace</td>\n",
       "      <td>$359.2</td>\n",
       "      <td>9</td>\n",
       "      <td>$39.9</td>\n",
       "      <td>Sherlock Holmes 2</td>\n",
       "      <td>$186.8</td>\n",
       "    </tr>\n",
       "  </tbody>\n",
       "</table>\n",
       "</div>"
      ],
      "text/plain": [
       "              actor total_gross  no_movies avg_gross  \\\n",
       "0  Daniel Radcliffe    $2,565.1         15    $171.0   \n",
       "1       Josh Radnor       $718k          3     $239k   \n",
       "2     Edgar Ramirez      $305.5          7     $43.6   \n",
       "3      Harold Ramis       $11.6          1     $11.6   \n",
       "4      Noomi Rapace      $359.2          9     $39.9   \n",
       "\n",
       "                           top_picture top_gross  \n",
       "0  Harry Potter / Deathly Hallows (P2)    $381.0  \n",
       "1                         Liberal Arts     $327k  \n",
       "2                     Zero Dark Thirty     $95.7  \n",
       "3                 The Last Kiss (2006)     $11.6  \n",
       "4                    Sherlock Holmes 2    $186.8  "
      ]
     },
     "execution_count": 53,
     "metadata": {},
     "output_type": "execute_result"
    }
   ],
   "source": [
    "header=['actor','total_gross','no_movies','avg_gross','top_picture','top_gross']\n",
    "actor_df.columns = header\n",
    "actor_df.head()"
   ]
  },
  {
   "cell_type": "code",
   "execution_count": null,
   "metadata": {
    "collapsed": true
   },
   "outputs": [],
   "source": []
  }
 ],
 "metadata": {
  "kernelspec": {
   "display_name": "Python 2",
   "language": "python",
   "name": "python2"
  },
  "language_info": {
   "codemirror_mode": {
    "name": "ipython",
    "version": 2
   },
   "file_extension": ".py",
   "mimetype": "text/x-python",
   "name": "python",
   "nbconvert_exporter": "python",
   "pygments_lexer": "ipython2",
   "version": "2.7.11"
  }
 },
 "nbformat": 4,
 "nbformat_minor": 0
}
